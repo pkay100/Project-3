{
  "nbformat": 4,
  "nbformat_minor": 0,
  "metadata": {
    "kernelspec": {
      "display_name": "Python 3",
      "language": "python",
      "name": "python3"
    },
    "language_info": {
      "codemirror_mode": {
        "name": "ipython",
        "version": 3
      },
      "file_extension": ".py",
      "mimetype": "text/x-python",
      "name": "python",
      "nbconvert_exporter": "python",
      "pygments_lexer": "ipython3",
      "version": "3.7.4"
    },
    "colab": {
      "name": "Project 3.ipynb",
      "provenance": [],
      "collapsed_sections": [
        "pFUG4Ictc05H",
        "Bm75oE9wfHuR",
        "mcWBAssDT2bi",
        "9ybzawEvsUGX",
        "kAWLcKaBuN7x",
        "r8xFNqL_v8i0",
        "-itbjivVy_vd",
        "MbpNzmU-zjVH",
        "FvCTIeZNzvL8"
      ]
    }
  },
  "cells": [
    {
      "cell_type": "code",
      "metadata": {
        "id": "65aRJNe5mMKk",
        "colab_type": "code",
        "outputId": "33acd327-2177-4986-ccf8-2716426c9538",
        "colab": {
          "base_uri": "https://localhost:8080/",
          "height": 74
        }
      },
      "source": [
        "%matplotlib inline\n",
        "import pandas as pd\n",
        "import matplotlib.pyplot as plt\n",
        "import numpy as np\n",
        "import seaborn as sns\n",
        "from sklearn.linear_model import LogisticRegression \n",
        "from sklearn.svm import SVC\n",
        "from sklearn.ensemble import RandomForestClassifier\n",
        "plt.style.use('fivethirtyeight')\n",
        "import warnings\n",
        "warnings.filterwarnings('ignore')\n",
        "import missingno as msno\n",
        "from sklearn.model_selection import train_test_split\n",
        "from sklearn import metrics"
      ],
      "execution_count": 2,
      "outputs": [
        {
          "output_type": "stream",
          "text": [
            "/usr/local/lib/python3.6/dist-packages/statsmodels/tools/_testing.py:19: FutureWarning: pandas.util.testing is deprecated. Use the functions in the public API at pandas.testing instead.\n",
            "  import pandas.util.testing as tm\n"
          ],
          "name": "stderr"
        }
      ]
    },
    {
      "cell_type": "code",
      "metadata": {
        "id": "c_Z_qYY2mMKx",
        "colab_type": "code",
        "colab": {}
      },
      "source": [
        "df = pd.read_csv('/content/loan_sample.csv')\n"
      ],
      "execution_count": 0,
      "outputs": []
    },
    {
      "cell_type": "code",
      "metadata": {
        "id": "JPqqZ-qamMK3",
        "colab_type": "code",
        "outputId": "7a575d9f-6c25-4172-d318-90673baca0db",
        "colab": {
          "base_uri": "https://localhost:8080/",
          "height": 334
        }
      },
      "source": [
        "df.head()"
      ],
      "execution_count": 7,
      "outputs": [
        {
          "output_type": "execute_result",
          "data": {
            "text/html": [
              "<div>\n",
              "<style scoped>\n",
              "    .dataframe tbody tr th:only-of-type {\n",
              "        vertical-align: middle;\n",
              "    }\n",
              "\n",
              "    .dataframe tbody tr th {\n",
              "        vertical-align: top;\n",
              "    }\n",
              "\n",
              "    .dataframe thead th {\n",
              "        text-align: right;\n",
              "    }\n",
              "</style>\n",
              "<table border=\"1\" class=\"dataframe\">\n",
              "  <thead>\n",
              "    <tr style=\"text-align: right;\">\n",
              "      <th></th>\n",
              "      <th>id</th>\n",
              "      <th>member_id</th>\n",
              "      <th>loan_amnt</th>\n",
              "      <th>funded_amnt</th>\n",
              "      <th>funded_amnt_inv</th>\n",
              "      <th>term</th>\n",
              "      <th>int_rate</th>\n",
              "      <th>installment</th>\n",
              "      <th>grade</th>\n",
              "      <th>sub_grade</th>\n",
              "      <th>emp_title</th>\n",
              "      <th>emp_length</th>\n",
              "      <th>home_ownership</th>\n",
              "      <th>annual_inc</th>\n",
              "      <th>verification_status</th>\n",
              "      <th>issue_d</th>\n",
              "      <th>loan_status</th>\n",
              "      <th>pymnt_plan</th>\n",
              "      <th>url</th>\n",
              "      <th>desc</th>\n",
              "      <th>purpose</th>\n",
              "      <th>title</th>\n",
              "      <th>zip_code</th>\n",
              "      <th>addr_state</th>\n",
              "      <th>dti</th>\n",
              "      <th>delinq_2yrs</th>\n",
              "      <th>earliest_cr_line</th>\n",
              "      <th>inq_last_6mths</th>\n",
              "      <th>mths_since_last_delinq</th>\n",
              "      <th>mths_since_last_record</th>\n",
              "      <th>open_acc</th>\n",
              "      <th>pub_rec</th>\n",
              "      <th>revol_bal</th>\n",
              "      <th>revol_util</th>\n",
              "      <th>total_acc</th>\n",
              "      <th>initial_list_status</th>\n",
              "      <th>out_prncp</th>\n",
              "      <th>out_prncp_inv</th>\n",
              "      <th>total_pymnt</th>\n",
              "      <th>total_pymnt_inv</th>\n",
              "      <th>...</th>\n",
              "      <th>pub_rec_bankruptcies</th>\n",
              "      <th>tax_liens</th>\n",
              "      <th>tot_hi_cred_lim</th>\n",
              "      <th>total_bal_ex_mort</th>\n",
              "      <th>total_bc_limit</th>\n",
              "      <th>total_il_high_credit_limit</th>\n",
              "      <th>revol_bal_joint</th>\n",
              "      <th>sec_app_earliest_cr_line</th>\n",
              "      <th>sec_app_inq_last_6mths</th>\n",
              "      <th>sec_app_mort_acc</th>\n",
              "      <th>sec_app_open_acc</th>\n",
              "      <th>sec_app_revol_util</th>\n",
              "      <th>sec_app_open_act_il</th>\n",
              "      <th>sec_app_num_rev_accts</th>\n",
              "      <th>sec_app_chargeoff_within_12_mths</th>\n",
              "      <th>sec_app_collections_12_mths_ex_med</th>\n",
              "      <th>sec_app_mths_since_last_major_derog</th>\n",
              "      <th>hardship_flag</th>\n",
              "      <th>hardship_type</th>\n",
              "      <th>hardship_reason</th>\n",
              "      <th>hardship_status</th>\n",
              "      <th>deferral_term</th>\n",
              "      <th>hardship_amount</th>\n",
              "      <th>hardship_start_date</th>\n",
              "      <th>hardship_end_date</th>\n",
              "      <th>payment_plan_start_date</th>\n",
              "      <th>hardship_length</th>\n",
              "      <th>hardship_dpd</th>\n",
              "      <th>hardship_loan_status</th>\n",
              "      <th>orig_projected_additional_accrued_interest</th>\n",
              "      <th>hardship_payoff_balance_amount</th>\n",
              "      <th>hardship_last_payment_amount</th>\n",
              "      <th>disbursement_method</th>\n",
              "      <th>debt_settlement_flag</th>\n",
              "      <th>debt_settlement_flag_date</th>\n",
              "      <th>settlement_status</th>\n",
              "      <th>settlement_date</th>\n",
              "      <th>settlement_amount</th>\n",
              "      <th>settlement_percentage</th>\n",
              "      <th>settlement_term</th>\n",
              "    </tr>\n",
              "  </thead>\n",
              "  <tbody>\n",
              "    <tr>\n",
              "      <th>0</th>\n",
              "      <td>NaN</td>\n",
              "      <td>NaN</td>\n",
              "      <td>22000</td>\n",
              "      <td>22000</td>\n",
              "      <td>22000.0</td>\n",
              "      <td>36 months</td>\n",
              "      <td>9.17</td>\n",
              "      <td>701.34</td>\n",
              "      <td>B</td>\n",
              "      <td>B2</td>\n",
              "      <td>Registered Nurse</td>\n",
              "      <td>5 years</td>\n",
              "      <td>RENT</td>\n",
              "      <td>73000.0</td>\n",
              "      <td>Source Verified</td>\n",
              "      <td>Jun-2015</td>\n",
              "      <td>0</td>\n",
              "      <td>n</td>\n",
              "      <td>NaN</td>\n",
              "      <td>NaN</td>\n",
              "      <td>debt_consolidation</td>\n",
              "      <td>Debt consolidation</td>\n",
              "      <td>913xx</td>\n",
              "      <td>CA</td>\n",
              "      <td>13.16</td>\n",
              "      <td>0.0</td>\n",
              "      <td>Sep-1999</td>\n",
              "      <td>2.0</td>\n",
              "      <td>29.0</td>\n",
              "      <td>NaN</td>\n",
              "      <td>7.0</td>\n",
              "      <td>0.0</td>\n",
              "      <td>33797</td>\n",
              "      <td>59.4</td>\n",
              "      <td>22.0</td>\n",
              "      <td>f</td>\n",
              "      <td>0.0</td>\n",
              "      <td>0.0</td>\n",
              "      <td>25251.046476</td>\n",
              "      <td>25251.05</td>\n",
              "      <td>...</td>\n",
              "      <td>0.0</td>\n",
              "      <td>0.0</td>\n",
              "      <td>56900.0</td>\n",
              "      <td>33797.0</td>\n",
              "      <td>47600.0</td>\n",
              "      <td>0.0</td>\n",
              "      <td>NaN</td>\n",
              "      <td>NaN</td>\n",
              "      <td>NaN</td>\n",
              "      <td>NaN</td>\n",
              "      <td>NaN</td>\n",
              "      <td>NaN</td>\n",
              "      <td>NaN</td>\n",
              "      <td>NaN</td>\n",
              "      <td>NaN</td>\n",
              "      <td>NaN</td>\n",
              "      <td>NaN</td>\n",
              "      <td>N</td>\n",
              "      <td>NaN</td>\n",
              "      <td>NaN</td>\n",
              "      <td>NaN</td>\n",
              "      <td>NaN</td>\n",
              "      <td>NaN</td>\n",
              "      <td>NaN</td>\n",
              "      <td>NaN</td>\n",
              "      <td>NaN</td>\n",
              "      <td>NaN</td>\n",
              "      <td>NaN</td>\n",
              "      <td>NaN</td>\n",
              "      <td>NaN</td>\n",
              "      <td>NaN</td>\n",
              "      <td>NaN</td>\n",
              "      <td>Cash</td>\n",
              "      <td>N</td>\n",
              "      <td>NaN</td>\n",
              "      <td>NaN</td>\n",
              "      <td>NaN</td>\n",
              "      <td>NaN</td>\n",
              "      <td>NaN</td>\n",
              "      <td>NaN</td>\n",
              "    </tr>\n",
              "    <tr>\n",
              "      <th>1</th>\n",
              "      <td>NaN</td>\n",
              "      <td>NaN</td>\n",
              "      <td>8000</td>\n",
              "      <td>8000</td>\n",
              "      <td>8000.0</td>\n",
              "      <td>36 months</td>\n",
              "      <td>5.32</td>\n",
              "      <td>240.92</td>\n",
              "      <td>A</td>\n",
              "      <td>A1</td>\n",
              "      <td>Foreman</td>\n",
              "      <td>10+ years</td>\n",
              "      <td>MORTGAGE</td>\n",
              "      <td>89000.0</td>\n",
              "      <td>Not Verified</td>\n",
              "      <td>Aug-2016</td>\n",
              "      <td>0</td>\n",
              "      <td>n</td>\n",
              "      <td>NaN</td>\n",
              "      <td>NaN</td>\n",
              "      <td>debt_consolidation</td>\n",
              "      <td>Debt consolidation</td>\n",
              "      <td>740xx</td>\n",
              "      <td>OK</td>\n",
              "      <td>6.63</td>\n",
              "      <td>0.0</td>\n",
              "      <td>Dec-2001</td>\n",
              "      <td>0.0</td>\n",
              "      <td>NaN</td>\n",
              "      <td>118.0</td>\n",
              "      <td>8.0</td>\n",
              "      <td>1.0</td>\n",
              "      <td>5405</td>\n",
              "      <td>34.6</td>\n",
              "      <td>16.0</td>\n",
              "      <td>f</td>\n",
              "      <td>0.0</td>\n",
              "      <td>0.0</td>\n",
              "      <td>8602.708787</td>\n",
              "      <td>8602.71</td>\n",
              "      <td>...</td>\n",
              "      <td>1.0</td>\n",
              "      <td>0.0</td>\n",
              "      <td>236146.0</td>\n",
              "      <td>17380.0</td>\n",
              "      <td>10500.0</td>\n",
              "      <td>18039.0</td>\n",
              "      <td>NaN</td>\n",
              "      <td>NaN</td>\n",
              "      <td>NaN</td>\n",
              "      <td>NaN</td>\n",
              "      <td>NaN</td>\n",
              "      <td>NaN</td>\n",
              "      <td>NaN</td>\n",
              "      <td>NaN</td>\n",
              "      <td>NaN</td>\n",
              "      <td>NaN</td>\n",
              "      <td>NaN</td>\n",
              "      <td>N</td>\n",
              "      <td>NaN</td>\n",
              "      <td>NaN</td>\n",
              "      <td>NaN</td>\n",
              "      <td>NaN</td>\n",
              "      <td>NaN</td>\n",
              "      <td>NaN</td>\n",
              "      <td>NaN</td>\n",
              "      <td>NaN</td>\n",
              "      <td>NaN</td>\n",
              "      <td>NaN</td>\n",
              "      <td>NaN</td>\n",
              "      <td>NaN</td>\n",
              "      <td>NaN</td>\n",
              "      <td>NaN</td>\n",
              "      <td>Cash</td>\n",
              "      <td>N</td>\n",
              "      <td>NaN</td>\n",
              "      <td>NaN</td>\n",
              "      <td>NaN</td>\n",
              "      <td>NaN</td>\n",
              "      <td>NaN</td>\n",
              "      <td>NaN</td>\n",
              "    </tr>\n",
              "    <tr>\n",
              "      <th>2</th>\n",
              "      <td>NaN</td>\n",
              "      <td>NaN</td>\n",
              "      <td>6000</td>\n",
              "      <td>6000</td>\n",
              "      <td>6000.0</td>\n",
              "      <td>36 months</td>\n",
              "      <td>9.75</td>\n",
              "      <td>192.90</td>\n",
              "      <td>B</td>\n",
              "      <td>B3</td>\n",
              "      <td>Staff Accountant</td>\n",
              "      <td>1 year</td>\n",
              "      <td>RENT</td>\n",
              "      <td>65000.0</td>\n",
              "      <td>Not Verified</td>\n",
              "      <td>Mar-2016</td>\n",
              "      <td>0</td>\n",
              "      <td>n</td>\n",
              "      <td>NaN</td>\n",
              "      <td>NaN</td>\n",
              "      <td>debt_consolidation</td>\n",
              "      <td>Debt consolidation</td>\n",
              "      <td>980xx</td>\n",
              "      <td>WA</td>\n",
              "      <td>24.26</td>\n",
              "      <td>0.0</td>\n",
              "      <td>Oct-2004</td>\n",
              "      <td>0.0</td>\n",
              "      <td>NaN</td>\n",
              "      <td>NaN</td>\n",
              "      <td>17.0</td>\n",
              "      <td>0.0</td>\n",
              "      <td>27715</td>\n",
              "      <td>48.5</td>\n",
              "      <td>27.0</td>\n",
              "      <td>w</td>\n",
              "      <td>0.0</td>\n",
              "      <td>0.0</td>\n",
              "      <td>6518.164684</td>\n",
              "      <td>6518.16</td>\n",
              "      <td>...</td>\n",
              "      <td>0.0</td>\n",
              "      <td>0.0</td>\n",
              "      <td>89841.0</td>\n",
              "      <td>41070.0</td>\n",
              "      <td>16000.0</td>\n",
              "      <td>32641.0</td>\n",
              "      <td>NaN</td>\n",
              "      <td>NaN</td>\n",
              "      <td>NaN</td>\n",
              "      <td>NaN</td>\n",
              "      <td>NaN</td>\n",
              "      <td>NaN</td>\n",
              "      <td>NaN</td>\n",
              "      <td>NaN</td>\n",
              "      <td>NaN</td>\n",
              "      <td>NaN</td>\n",
              "      <td>NaN</td>\n",
              "      <td>N</td>\n",
              "      <td>NaN</td>\n",
              "      <td>NaN</td>\n",
              "      <td>NaN</td>\n",
              "      <td>NaN</td>\n",
              "      <td>NaN</td>\n",
              "      <td>NaN</td>\n",
              "      <td>NaN</td>\n",
              "      <td>NaN</td>\n",
              "      <td>NaN</td>\n",
              "      <td>NaN</td>\n",
              "      <td>NaN</td>\n",
              "      <td>NaN</td>\n",
              "      <td>NaN</td>\n",
              "      <td>NaN</td>\n",
              "      <td>Cash</td>\n",
              "      <td>N</td>\n",
              "      <td>NaN</td>\n",
              "      <td>NaN</td>\n",
              "      <td>NaN</td>\n",
              "      <td>NaN</td>\n",
              "      <td>NaN</td>\n",
              "      <td>NaN</td>\n",
              "    </tr>\n",
              "    <tr>\n",
              "      <th>3</th>\n",
              "      <td>NaN</td>\n",
              "      <td>NaN</td>\n",
              "      <td>5300</td>\n",
              "      <td>5300</td>\n",
              "      <td>5300.0</td>\n",
              "      <td>36 months</td>\n",
              "      <td>12.39</td>\n",
              "      <td>177.03</td>\n",
              "      <td>C</td>\n",
              "      <td>C1</td>\n",
              "      <td>ADMINISTRATOR</td>\n",
              "      <td>10+ years</td>\n",
              "      <td>MORTGAGE</td>\n",
              "      <td>53486.0</td>\n",
              "      <td>Source Verified</td>\n",
              "      <td>Nov-2014</td>\n",
              "      <td>0</td>\n",
              "      <td>n</td>\n",
              "      <td>NaN</td>\n",
              "      <td>NaN</td>\n",
              "      <td>debt_consolidation</td>\n",
              "      <td>Debt consolidation</td>\n",
              "      <td>150xx</td>\n",
              "      <td>PA</td>\n",
              "      <td>32.87</td>\n",
              "      <td>0.0</td>\n",
              "      <td>Jun-1991</td>\n",
              "      <td>0.0</td>\n",
              "      <td>NaN</td>\n",
              "      <td>NaN</td>\n",
              "      <td>18.0</td>\n",
              "      <td>0.0</td>\n",
              "      <td>31609</td>\n",
              "      <td>70.2</td>\n",
              "      <td>35.0</td>\n",
              "      <td>w</td>\n",
              "      <td>0.0</td>\n",
              "      <td>0.0</td>\n",
              "      <td>6369.200907</td>\n",
              "      <td>6369.20</td>\n",
              "      <td>...</td>\n",
              "      <td>0.0</td>\n",
              "      <td>0.0</td>\n",
              "      <td>233175.0</td>\n",
              "      <td>42735.0</td>\n",
              "      <td>17300.0</td>\n",
              "      <td>22828.0</td>\n",
              "      <td>NaN</td>\n",
              "      <td>NaN</td>\n",
              "      <td>NaN</td>\n",
              "      <td>NaN</td>\n",
              "      <td>NaN</td>\n",
              "      <td>NaN</td>\n",
              "      <td>NaN</td>\n",
              "      <td>NaN</td>\n",
              "      <td>NaN</td>\n",
              "      <td>NaN</td>\n",
              "      <td>NaN</td>\n",
              "      <td>N</td>\n",
              "      <td>NaN</td>\n",
              "      <td>NaN</td>\n",
              "      <td>NaN</td>\n",
              "      <td>NaN</td>\n",
              "      <td>NaN</td>\n",
              "      <td>NaN</td>\n",
              "      <td>NaN</td>\n",
              "      <td>NaN</td>\n",
              "      <td>NaN</td>\n",
              "      <td>NaN</td>\n",
              "      <td>NaN</td>\n",
              "      <td>NaN</td>\n",
              "      <td>NaN</td>\n",
              "      <td>NaN</td>\n",
              "      <td>Cash</td>\n",
              "      <td>N</td>\n",
              "      <td>NaN</td>\n",
              "      <td>NaN</td>\n",
              "      <td>NaN</td>\n",
              "      <td>NaN</td>\n",
              "      <td>NaN</td>\n",
              "      <td>NaN</td>\n",
              "    </tr>\n",
              "    <tr>\n",
              "      <th>4</th>\n",
              "      <td>NaN</td>\n",
              "      <td>NaN</td>\n",
              "      <td>8000</td>\n",
              "      <td>8000</td>\n",
              "      <td>8000.0</td>\n",
              "      <td>36 months</td>\n",
              "      <td>12.49</td>\n",
              "      <td>267.60</td>\n",
              "      <td>B</td>\n",
              "      <td>B5</td>\n",
              "      <td>Chemistry Supervisor</td>\n",
              "      <td>10+ years</td>\n",
              "      <td>MORTGAGE</td>\n",
              "      <td>72550.0</td>\n",
              "      <td>Not Verified</td>\n",
              "      <td>Sep-2014</td>\n",
              "      <td>0</td>\n",
              "      <td>n</td>\n",
              "      <td>NaN</td>\n",
              "      <td>NaN</td>\n",
              "      <td>other</td>\n",
              "      <td>Other</td>\n",
              "      <td>441xx</td>\n",
              "      <td>OH</td>\n",
              "      <td>10.72</td>\n",
              "      <td>0.0</td>\n",
              "      <td>Jul-1979</td>\n",
              "      <td>0.0</td>\n",
              "      <td>44.0</td>\n",
              "      <td>NaN</td>\n",
              "      <td>7.0</td>\n",
              "      <td>0.0</td>\n",
              "      <td>5880</td>\n",
              "      <td>94.8</td>\n",
              "      <td>25.0</td>\n",
              "      <td>w</td>\n",
              "      <td>0.0</td>\n",
              "      <td>0.0</td>\n",
              "      <td>9633.193533</td>\n",
              "      <td>9633.19</td>\n",
              "      <td>...</td>\n",
              "      <td>0.0</td>\n",
              "      <td>0.0</td>\n",
              "      <td>211884.0</td>\n",
              "      <td>8147.0</td>\n",
              "      <td>6200.0</td>\n",
              "      <td>17684.0</td>\n",
              "      <td>NaN</td>\n",
              "      <td>NaN</td>\n",
              "      <td>NaN</td>\n",
              "      <td>NaN</td>\n",
              "      <td>NaN</td>\n",
              "      <td>NaN</td>\n",
              "      <td>NaN</td>\n",
              "      <td>NaN</td>\n",
              "      <td>NaN</td>\n",
              "      <td>NaN</td>\n",
              "      <td>NaN</td>\n",
              "      <td>N</td>\n",
              "      <td>NaN</td>\n",
              "      <td>NaN</td>\n",
              "      <td>NaN</td>\n",
              "      <td>NaN</td>\n",
              "      <td>NaN</td>\n",
              "      <td>NaN</td>\n",
              "      <td>NaN</td>\n",
              "      <td>NaN</td>\n",
              "      <td>NaN</td>\n",
              "      <td>NaN</td>\n",
              "      <td>NaN</td>\n",
              "      <td>NaN</td>\n",
              "      <td>NaN</td>\n",
              "      <td>NaN</td>\n",
              "      <td>Cash</td>\n",
              "      <td>N</td>\n",
              "      <td>NaN</td>\n",
              "      <td>NaN</td>\n",
              "      <td>NaN</td>\n",
              "      <td>NaN</td>\n",
              "      <td>NaN</td>\n",
              "      <td>NaN</td>\n",
              "    </tr>\n",
              "  </tbody>\n",
              "</table>\n",
              "<p>5 rows × 145 columns</p>\n",
              "</div>"
            ],
            "text/plain": [
              "   id  member_id  ...  settlement_percentage  settlement_term\n",
              "0 NaN        NaN  ...                    NaN              NaN\n",
              "1 NaN        NaN  ...                    NaN              NaN\n",
              "2 NaN        NaN  ...                    NaN              NaN\n",
              "3 NaN        NaN  ...                    NaN              NaN\n",
              "4 NaN        NaN  ...                    NaN              NaN\n",
              "\n",
              "[5 rows x 145 columns]"
            ]
          },
          "metadata": {
            "tags": []
          },
          "execution_count": 7
        }
      ]
    },
    {
      "cell_type": "code",
      "metadata": {
        "scrolled": true,
        "id": "-WxWmXmPmMLB",
        "colab_type": "code",
        "outputId": "3089c49f-56c9-4956-b9e0-50ee837efeac",
        "colab": {
          "base_uri": "https://localhost:8080/",
          "height": 108
        }
      },
      "source": [
        "df.info()"
      ],
      "execution_count": 8,
      "outputs": [
        {
          "output_type": "stream",
          "text": [
            "<class 'pandas.core.frame.DataFrame'>\n",
            "RangeIndex: 391091 entries, 0 to 391090\n",
            "Columns: 145 entries, id to settlement_term\n",
            "dtypes: float64(105), int64(5), object(35)\n",
            "memory usage: 432.6+ MB\n"
          ],
          "name": "stdout"
        }
      ]
    },
    {
      "cell_type": "code",
      "metadata": {
        "id": "yHBx_6MxmMLL",
        "colab_type": "code",
        "outputId": "6093df21-112f-4dfe-e904-1694a082c54b",
        "colab": {
          "base_uri": "https://localhost:8080/",
          "height": 235
        }
      },
      "source": [
        "df.dtypes"
      ],
      "execution_count": 9,
      "outputs": [
        {
          "output_type": "execute_result",
          "data": {
            "text/plain": [
              "id                       float64\n",
              "member_id                float64\n",
              "loan_amnt                  int64\n",
              "funded_amnt                int64\n",
              "funded_amnt_inv          float64\n",
              "                          ...   \n",
              "settlement_status         object\n",
              "settlement_date           object\n",
              "settlement_amount        float64\n",
              "settlement_percentage    float64\n",
              "settlement_term          float64\n",
              "Length: 145, dtype: object"
            ]
          },
          "metadata": {
            "tags": []
          },
          "execution_count": 9
        }
      ]
    },
    {
      "cell_type": "code",
      "metadata": {
        "id": "BUu5kexkmMLR",
        "colab_type": "code",
        "outputId": "8e443fee-8063-4352-df15-5d170b519c46",
        "colab": {
          "base_uri": "https://localhost:8080/",
          "height": 35
        }
      },
      "source": [
        "df.shape"
      ],
      "execution_count": 10,
      "outputs": [
        {
          "output_type": "execute_result",
          "data": {
            "text/plain": [
              "(391091, 145)"
            ]
          },
          "metadata": {
            "tags": []
          },
          "execution_count": 10
        }
      ]
    },
    {
      "cell_type": "code",
      "metadata": {
        "id": "vF2k1TI1mMLX",
        "colab_type": "code",
        "outputId": "44c2cc3e-03f3-43e2-9ce5-45dfbbcd5d30",
        "colab": {
          "base_uri": "https://localhost:8080/",
          "height": 235
        }
      },
      "source": [
        "df.isna().mean()"
      ],
      "execution_count": 11,
      "outputs": [
        {
          "output_type": "execute_result",
          "data": {
            "text/plain": [
              "id                       1.000000\n",
              "member_id                1.000000\n",
              "loan_amnt                0.000000\n",
              "funded_amnt              0.000000\n",
              "funded_amnt_inv          0.000000\n",
              "                           ...   \n",
              "settlement_status        0.975474\n",
              "settlement_date          0.975474\n",
              "settlement_amount        0.975474\n",
              "settlement_percentage    0.975474\n",
              "settlement_term          0.975474\n",
              "Length: 145, dtype: float64"
            ]
          },
          "metadata": {
            "tags": []
          },
          "execution_count": 11
        }
      ]
    },
    {
      "cell_type": "markdown",
      "metadata": {
        "id": "SAf1rBmdmMLe",
        "colab_type": "text"
      },
      "source": [
        "### Dropping columns with 80% NaN"
      ]
    },
    {
      "cell_type": "code",
      "metadata": {
        "id": "3rx_kDpomMLg",
        "colab_type": "code",
        "colab": {}
      },
      "source": [
        "#axis=1 specifies column, inplace=True overwrites df\n",
        "df.dropna(thresh=(df.shape[0] * 0.8), axis=1, inplace=True)     "
      ],
      "execution_count": 0,
      "outputs": []
    },
    {
      "cell_type": "code",
      "metadata": {
        "id": "tmP5RnVYmMLl",
        "colab_type": "code",
        "outputId": "cca89402-f7bc-4ae5-f6f3-89be428d27eb",
        "colab": {
          "base_uri": "https://localhost:8080/",
          "height": 35
        }
      },
      "source": [
        "# we can now see how many columns have been thrashed\n",
        "df.shape"
      ],
      "execution_count": 13,
      "outputs": [
        {
          "output_type": "execute_result",
          "data": {
            "text/plain": [
              "(391091, 87)"
            ]
          },
          "metadata": {
            "tags": []
          },
          "execution_count": 13
        }
      ]
    },
    {
      "cell_type": "code",
      "metadata": {
        "id": "LtUqEBYsmMLr",
        "colab_type": "code",
        "outputId": "2a8621b6-b546-4ef3-ffad-2224d5840650",
        "colab": {
          "base_uri": "https://localhost:8080/",
          "height": 446
        }
      },
      "source": [
        "# visualizing the missingness partern\n",
        "msno.matrix(df[0:100000])"
      ],
      "execution_count": 14,
      "outputs": [
        {
          "output_type": "execute_result",
          "data": {
            "text/plain": [
              "<matplotlib.axes._subplots.AxesSubplot at 0x7fa407225940>"
            ]
          },
          "metadata": {
            "tags": []
          },
          "execution_count": 14
        },
        {
          "output_type": "display_data",
          "data": {
            "image/png": "[encoded data removed]",
            "text/plain": [
              "<Figure size 1800x720 with 2 Axes>"
            ]
          },
          "metadata": {
            "tags": []
          }
        }
      ]
    },
    {
      "cell_type": "code",
      "metadata": {
        "id": "TgQ_8UuymMLy",
        "colab_type": "code",
        "outputId": "d9b496f9-57c6-491d-99b7-fff47f910eb3",
        "colab": {
          "base_uri": "https://localhost:8080/",
          "height": 35
        }
      },
      "source": [
        "df.dtypes.unique()"
      ],
      "execution_count": 15,
      "outputs": [
        {
          "output_type": "execute_result",
          "data": {
            "text/plain": [
              "array([dtype('int64'), dtype('float64'), dtype('O')], dtype=object)"
            ]
          },
          "metadata": {
            "tags": []
          },
          "execution_count": 15
        }
      ]
    },
    {
      "cell_type": "code",
      "metadata": {
        "id": "bnMNxRYGmML6",
        "colab_type": "code",
        "colab": {}
      },
      "source": [
        "int_df = df.select_dtypes(include=['float64','int64'])"
      ],
      "execution_count": 0,
      "outputs": []
    },
    {
      "cell_type": "code",
      "metadata": {
        "id": "fTcsCVa3mMMC",
        "colab_type": "code",
        "outputId": "43081aff-1696-4d37-c4a4-a44d4d7a9fc1",
        "colab": {
          "base_uri": "https://localhost:8080/",
          "height": 218
        }
      },
      "source": [
        "int_df.head()"
      ],
      "execution_count": 17,
      "outputs": [
        {
          "output_type": "execute_result",
          "data": {
            "text/html": [
              "<div>\n",
              "<style scoped>\n",
              "    .dataframe tbody tr th:only-of-type {\n",
              "        vertical-align: middle;\n",
              "    }\n",
              "\n",
              "    .dataframe tbody tr th {\n",
              "        vertical-align: top;\n",
              "    }\n",
              "\n",
              "    .dataframe thead th {\n",
              "        text-align: right;\n",
              "    }\n",
              "</style>\n",
              "<table border=\"1\" class=\"dataframe\">\n",
              "  <thead>\n",
              "    <tr style=\"text-align: right;\">\n",
              "      <th></th>\n",
              "      <th>loan_amnt</th>\n",
              "      <th>funded_amnt</th>\n",
              "      <th>funded_amnt_inv</th>\n",
              "      <th>int_rate</th>\n",
              "      <th>installment</th>\n",
              "      <th>annual_inc</th>\n",
              "      <th>loan_status</th>\n",
              "      <th>dti</th>\n",
              "      <th>delinq_2yrs</th>\n",
              "      <th>inq_last_6mths</th>\n",
              "      <th>open_acc</th>\n",
              "      <th>pub_rec</th>\n",
              "      <th>revol_bal</th>\n",
              "      <th>revol_util</th>\n",
              "      <th>total_acc</th>\n",
              "      <th>out_prncp</th>\n",
              "      <th>out_prncp_inv</th>\n",
              "      <th>total_pymnt</th>\n",
              "      <th>total_pymnt_inv</th>\n",
              "      <th>total_rec_prncp</th>\n",
              "      <th>total_rec_int</th>\n",
              "      <th>total_rec_late_fee</th>\n",
              "      <th>recoveries</th>\n",
              "      <th>collection_recovery_fee</th>\n",
              "      <th>last_pymnt_amnt</th>\n",
              "      <th>collections_12_mths_ex_med</th>\n",
              "      <th>policy_code</th>\n",
              "      <th>acc_now_delinq</th>\n",
              "      <th>tot_coll_amt</th>\n",
              "      <th>tot_cur_bal</th>\n",
              "      <th>total_rev_hi_lim</th>\n",
              "      <th>acc_open_past_24mths</th>\n",
              "      <th>avg_cur_bal</th>\n",
              "      <th>bc_open_to_buy</th>\n",
              "      <th>bc_util</th>\n",
              "      <th>chargeoff_within_12_mths</th>\n",
              "      <th>delinq_amnt</th>\n",
              "      <th>mo_sin_old_il_acct</th>\n",
              "      <th>mo_sin_old_rev_tl_op</th>\n",
              "      <th>mo_sin_rcnt_rev_tl_op</th>\n",
              "      <th>mo_sin_rcnt_tl</th>\n",
              "      <th>mort_acc</th>\n",
              "      <th>mths_since_recent_bc</th>\n",
              "      <th>mths_since_recent_inq</th>\n",
              "      <th>num_accts_ever_120_pd</th>\n",
              "      <th>num_actv_bc_tl</th>\n",
              "      <th>num_actv_rev_tl</th>\n",
              "      <th>num_bc_sats</th>\n",
              "      <th>num_bc_tl</th>\n",
              "      <th>num_il_tl</th>\n",
              "      <th>num_op_rev_tl</th>\n",
              "      <th>num_rev_accts</th>\n",
              "      <th>num_rev_tl_bal_gt_0</th>\n",
              "      <th>num_sats</th>\n",
              "      <th>num_tl_120dpd_2m</th>\n",
              "      <th>num_tl_30dpd</th>\n",
              "      <th>num_tl_90g_dpd_24m</th>\n",
              "      <th>num_tl_op_past_12m</th>\n",
              "      <th>pct_tl_nvr_dlq</th>\n",
              "      <th>percent_bc_gt_75</th>\n",
              "      <th>pub_rec_bankruptcies</th>\n",
              "      <th>tax_liens</th>\n",
              "      <th>tot_hi_cred_lim</th>\n",
              "      <th>total_bal_ex_mort</th>\n",
              "      <th>total_bc_limit</th>\n",
              "      <th>total_il_high_credit_limit</th>\n",
              "    </tr>\n",
              "  </thead>\n",
              "  <tbody>\n",
              "    <tr>\n",
              "      <th>0</th>\n",
              "      <td>22000</td>\n",
              "      <td>22000</td>\n",
              "      <td>22000.0</td>\n",
              "      <td>9.17</td>\n",
              "      <td>701.34</td>\n",
              "      <td>73000.0</td>\n",
              "      <td>0</td>\n",
              "      <td>13.16</td>\n",
              "      <td>0.0</td>\n",
              "      <td>2.0</td>\n",
              "      <td>7.0</td>\n",
              "      <td>0.0</td>\n",
              "      <td>33797</td>\n",
              "      <td>59.4</td>\n",
              "      <td>22.0</td>\n",
              "      <td>0.0</td>\n",
              "      <td>0.0</td>\n",
              "      <td>25251.046476</td>\n",
              "      <td>25251.05</td>\n",
              "      <td>22000.0</td>\n",
              "      <td>3251.05</td>\n",
              "      <td>0.0</td>\n",
              "      <td>0.0</td>\n",
              "      <td>0.0</td>\n",
              "      <td>701.17</td>\n",
              "      <td>0.0</td>\n",
              "      <td>1</td>\n",
              "      <td>0.0</td>\n",
              "      <td>0.0</td>\n",
              "      <td>33797.0</td>\n",
              "      <td>56900.0</td>\n",
              "      <td>3.0</td>\n",
              "      <td>4828.0</td>\n",
              "      <td>20438.0</td>\n",
              "      <td>57.1</td>\n",
              "      <td>0.0</td>\n",
              "      <td>0.0</td>\n",
              "      <td>131.0</td>\n",
              "      <td>188.0</td>\n",
              "      <td>5.0</td>\n",
              "      <td>5.0</td>\n",
              "      <td>3.0</td>\n",
              "      <td>5.0</td>\n",
              "      <td>5.0</td>\n",
              "      <td>1.0</td>\n",
              "      <td>4.0</td>\n",
              "      <td>7.0</td>\n",
              "      <td>4.0</td>\n",
              "      <td>11.0</td>\n",
              "      <td>3.0</td>\n",
              "      <td>7.0</td>\n",
              "      <td>16.0</td>\n",
              "      <td>7.0</td>\n",
              "      <td>7.0</td>\n",
              "      <td>0.0</td>\n",
              "      <td>0.0</td>\n",
              "      <td>0.0</td>\n",
              "      <td>2.0</td>\n",
              "      <td>90.9</td>\n",
              "      <td>50.0</td>\n",
              "      <td>0.0</td>\n",
              "      <td>0.0</td>\n",
              "      <td>56900.0</td>\n",
              "      <td>33797.0</td>\n",
              "      <td>47600.0</td>\n",
              "      <td>0.0</td>\n",
              "    </tr>\n",
              "    <tr>\n",
              "      <th>1</th>\n",
              "      <td>8000</td>\n",
              "      <td>8000</td>\n",
              "      <td>8000.0</td>\n",
              "      <td>5.32</td>\n",
              "      <td>240.92</td>\n",
              "      <td>89000.0</td>\n",
              "      <td>0</td>\n",
              "      <td>6.63</td>\n",
              "      <td>0.0</td>\n",
              "      <td>0.0</td>\n",
              "      <td>8.0</td>\n",
              "      <td>1.0</td>\n",
              "      <td>5405</td>\n",
              "      <td>34.6</td>\n",
              "      <td>16.0</td>\n",
              "      <td>0.0</td>\n",
              "      <td>0.0</td>\n",
              "      <td>8602.708787</td>\n",
              "      <td>8602.71</td>\n",
              "      <td>8000.0</td>\n",
              "      <td>602.71</td>\n",
              "      <td>0.0</td>\n",
              "      <td>0.0</td>\n",
              "      <td>0.0</td>\n",
              "      <td>3059.00</td>\n",
              "      <td>0.0</td>\n",
              "      <td>1</td>\n",
              "      <td>0.0</td>\n",
              "      <td>0.0</td>\n",
              "      <td>217913.0</td>\n",
              "      <td>15600.0</td>\n",
              "      <td>3.0</td>\n",
              "      <td>27239.0</td>\n",
              "      <td>5187.0</td>\n",
              "      <td>50.6</td>\n",
              "      <td>0.0</td>\n",
              "      <td>0.0</td>\n",
              "      <td>73.0</td>\n",
              "      <td>108.0</td>\n",
              "      <td>20.0</td>\n",
              "      <td>10.0</td>\n",
              "      <td>3.0</td>\n",
              "      <td>20.0</td>\n",
              "      <td>12.0</td>\n",
              "      <td>0.0</td>\n",
              "      <td>3.0</td>\n",
              "      <td>4.0</td>\n",
              "      <td>3.0</td>\n",
              "      <td>5.0</td>\n",
              "      <td>3.0</td>\n",
              "      <td>6.0</td>\n",
              "      <td>10.0</td>\n",
              "      <td>4.0</td>\n",
              "      <td>8.0</td>\n",
              "      <td>0.0</td>\n",
              "      <td>0.0</td>\n",
              "      <td>0.0</td>\n",
              "      <td>1.0</td>\n",
              "      <td>100.0</td>\n",
              "      <td>0.0</td>\n",
              "      <td>1.0</td>\n",
              "      <td>0.0</td>\n",
              "      <td>236146.0</td>\n",
              "      <td>17380.0</td>\n",
              "      <td>10500.0</td>\n",
              "      <td>18039.0</td>\n",
              "    </tr>\n",
              "    <tr>\n",
              "      <th>2</th>\n",
              "      <td>6000</td>\n",
              "      <td>6000</td>\n",
              "      <td>6000.0</td>\n",
              "      <td>9.75</td>\n",
              "      <td>192.90</td>\n",
              "      <td>65000.0</td>\n",
              "      <td>0</td>\n",
              "      <td>24.26</td>\n",
              "      <td>0.0</td>\n",
              "      <td>0.0</td>\n",
              "      <td>17.0</td>\n",
              "      <td>0.0</td>\n",
              "      <td>27715</td>\n",
              "      <td>48.5</td>\n",
              "      <td>27.0</td>\n",
              "      <td>0.0</td>\n",
              "      <td>0.0</td>\n",
              "      <td>6518.164684</td>\n",
              "      <td>6518.16</td>\n",
              "      <td>6000.0</td>\n",
              "      <td>518.16</td>\n",
              "      <td>0.0</td>\n",
              "      <td>0.0</td>\n",
              "      <td>0.0</td>\n",
              "      <td>407.59</td>\n",
              "      <td>0.0</td>\n",
              "      <td>1</td>\n",
              "      <td>0.0</td>\n",
              "      <td>0.0</td>\n",
              "      <td>41070.0</td>\n",
              "      <td>57200.0</td>\n",
              "      <td>5.0</td>\n",
              "      <td>2738.0</td>\n",
              "      <td>4791.0</td>\n",
              "      <td>70.1</td>\n",
              "      <td>0.0</td>\n",
              "      <td>0.0</td>\n",
              "      <td>49.0</td>\n",
              "      <td>137.0</td>\n",
              "      <td>4.0</td>\n",
              "      <td>4.0</td>\n",
              "      <td>0.0</td>\n",
              "      <td>22.0</td>\n",
              "      <td>7.0</td>\n",
              "      <td>0.0</td>\n",
              "      <td>2.0</td>\n",
              "      <td>7.0</td>\n",
              "      <td>3.0</td>\n",
              "      <td>7.0</td>\n",
              "      <td>2.0</td>\n",
              "      <td>15.0</td>\n",
              "      <td>24.0</td>\n",
              "      <td>7.0</td>\n",
              "      <td>17.0</td>\n",
              "      <td>0.0</td>\n",
              "      <td>0.0</td>\n",
              "      <td>0.0</td>\n",
              "      <td>2.0</td>\n",
              "      <td>100.0</td>\n",
              "      <td>33.3</td>\n",
              "      <td>0.0</td>\n",
              "      <td>0.0</td>\n",
              "      <td>89841.0</td>\n",
              "      <td>41070.0</td>\n",
              "      <td>16000.0</td>\n",
              "      <td>32641.0</td>\n",
              "    </tr>\n",
              "    <tr>\n",
              "      <th>3</th>\n",
              "      <td>5300</td>\n",
              "      <td>5300</td>\n",
              "      <td>5300.0</td>\n",
              "      <td>12.39</td>\n",
              "      <td>177.03</td>\n",
              "      <td>53486.0</td>\n",
              "      <td>0</td>\n",
              "      <td>32.87</td>\n",
              "      <td>0.0</td>\n",
              "      <td>0.0</td>\n",
              "      <td>18.0</td>\n",
              "      <td>0.0</td>\n",
              "      <td>31609</td>\n",
              "      <td>70.2</td>\n",
              "      <td>35.0</td>\n",
              "      <td>0.0</td>\n",
              "      <td>0.0</td>\n",
              "      <td>6369.200907</td>\n",
              "      <td>6369.20</td>\n",
              "      <td>5300.0</td>\n",
              "      <td>1069.20</td>\n",
              "      <td>0.0</td>\n",
              "      <td>0.0</td>\n",
              "      <td>0.0</td>\n",
              "      <td>176.80</td>\n",
              "      <td>0.0</td>\n",
              "      <td>1</td>\n",
              "      <td>0.0</td>\n",
              "      <td>0.0</td>\n",
              "      <td>174780.0</td>\n",
              "      <td>45000.0</td>\n",
              "      <td>4.0</td>\n",
              "      <td>9710.0</td>\n",
              "      <td>5092.0</td>\n",
              "      <td>70.6</td>\n",
              "      <td>0.0</td>\n",
              "      <td>0.0</td>\n",
              "      <td>194.0</td>\n",
              "      <td>281.0</td>\n",
              "      <td>7.0</td>\n",
              "      <td>7.0</td>\n",
              "      <td>5.0</td>\n",
              "      <td>7.0</td>\n",
              "      <td>14.0</td>\n",
              "      <td>0.0</td>\n",
              "      <td>5.0</td>\n",
              "      <td>9.0</td>\n",
              "      <td>6.0</td>\n",
              "      <td>14.0</td>\n",
              "      <td>6.0</td>\n",
              "      <td>14.0</td>\n",
              "      <td>24.0</td>\n",
              "      <td>9.0</td>\n",
              "      <td>18.0</td>\n",
              "      <td>0.0</td>\n",
              "      <td>0.0</td>\n",
              "      <td>0.0</td>\n",
              "      <td>2.0</td>\n",
              "      <td>100.0</td>\n",
              "      <td>50.0</td>\n",
              "      <td>0.0</td>\n",
              "      <td>0.0</td>\n",
              "      <td>233175.0</td>\n",
              "      <td>42735.0</td>\n",
              "      <td>17300.0</td>\n",
              "      <td>22828.0</td>\n",
              "    </tr>\n",
              "    <tr>\n",
              "      <th>4</th>\n",
              "      <td>8000</td>\n",
              "      <td>8000</td>\n",
              "      <td>8000.0</td>\n",
              "      <td>12.49</td>\n",
              "      <td>267.60</td>\n",
              "      <td>72550.0</td>\n",
              "      <td>0</td>\n",
              "      <td>10.72</td>\n",
              "      <td>0.0</td>\n",
              "      <td>0.0</td>\n",
              "      <td>7.0</td>\n",
              "      <td>0.0</td>\n",
              "      <td>5880</td>\n",
              "      <td>94.8</td>\n",
              "      <td>25.0</td>\n",
              "      <td>0.0</td>\n",
              "      <td>0.0</td>\n",
              "      <td>9633.193533</td>\n",
              "      <td>9633.19</td>\n",
              "      <td>8000.0</td>\n",
              "      <td>1633.19</td>\n",
              "      <td>0.0</td>\n",
              "      <td>0.0</td>\n",
              "      <td>0.0</td>\n",
              "      <td>267.19</td>\n",
              "      <td>0.0</td>\n",
              "      <td>1</td>\n",
              "      <td>0.0</td>\n",
              "      <td>0.0</td>\n",
              "      <td>173075.0</td>\n",
              "      <td>6200.0</td>\n",
              "      <td>3.0</td>\n",
              "      <td>24725.0</td>\n",
              "      <td>320.0</td>\n",
              "      <td>94.8</td>\n",
              "      <td>0.0</td>\n",
              "      <td>0.0</td>\n",
              "      <td>137.0</td>\n",
              "      <td>421.0</td>\n",
              "      <td>9.0</td>\n",
              "      <td>9.0</td>\n",
              "      <td>4.0</td>\n",
              "      <td>9.0</td>\n",
              "      <td>22.0</td>\n",
              "      <td>10.0</td>\n",
              "      <td>4.0</td>\n",
              "      <td>4.0</td>\n",
              "      <td>4.0</td>\n",
              "      <td>12.0</td>\n",
              "      <td>4.0</td>\n",
              "      <td>4.0</td>\n",
              "      <td>15.0</td>\n",
              "      <td>4.0</td>\n",
              "      <td>7.0</td>\n",
              "      <td>0.0</td>\n",
              "      <td>0.0</td>\n",
              "      <td>0.0</td>\n",
              "      <td>1.0</td>\n",
              "      <td>60.0</td>\n",
              "      <td>100.0</td>\n",
              "      <td>0.0</td>\n",
              "      <td>0.0</td>\n",
              "      <td>211884.0</td>\n",
              "      <td>8147.0</td>\n",
              "      <td>6200.0</td>\n",
              "      <td>17684.0</td>\n",
              "    </tr>\n",
              "  </tbody>\n",
              "</table>\n",
              "</div>"
            ],
            "text/plain": [
              "   loan_amnt  funded_amnt  ...  total_bc_limit  total_il_high_credit_limit\n",
              "0      22000        22000  ...         47600.0                         0.0\n",
              "1       8000         8000  ...         10500.0                     18039.0\n",
              "2       6000         6000  ...         16000.0                     32641.0\n",
              "3       5300         5300  ...         17300.0                     22828.0\n",
              "4       8000         8000  ...          6200.0                     17684.0\n",
              "\n",
              "[5 rows x 66 columns]"
            ]
          },
          "metadata": {
            "tags": []
          },
          "execution_count": 17
        }
      ]
    },
    {
      "cell_type": "code",
      "metadata": {
        "scrolled": false,
        "id": "9ZUdsRygmMMT",
        "colab_type": "code",
        "outputId": "79a529f6-f407-47b7-bdea-fa8cbc4ad336",
        "colab": {
          "base_uri": "https://localhost:8080/",
          "height": 978
        }
      },
      "source": [
        "np.absolute(int_df.corr()[['loan_status']]).sort_values(by='loan_status')[35:]"
      ],
      "execution_count": 18,
      "outputs": [
        {
          "output_type": "execute_result",
          "data": {
            "text/html": [
              "<div>\n",
              "<style scoped>\n",
              "    .dataframe tbody tr th:only-of-type {\n",
              "        vertical-align: middle;\n",
              "    }\n",
              "\n",
              "    .dataframe tbody tr th {\n",
              "        vertical-align: top;\n",
              "    }\n",
              "\n",
              "    .dataframe thead th {\n",
              "        text-align: right;\n",
              "    }\n",
              "</style>\n",
              "<table border=\"1\" class=\"dataframe\">\n",
              "  <thead>\n",
              "    <tr style=\"text-align: right;\">\n",
              "      <th></th>\n",
              "      <th>loan_status</th>\n",
              "    </tr>\n",
              "  </thead>\n",
              "  <tbody>\n",
              "    <tr>\n",
              "      <th>total_rec_int</th>\n",
              "      <td>0.056074</td>\n",
              "    </tr>\n",
              "    <tr>\n",
              "      <th>mths_since_recent_inq</th>\n",
              "      <td>0.057126</td>\n",
              "    </tr>\n",
              "    <tr>\n",
              "      <th>total_rev_hi_lim</th>\n",
              "      <td>0.058353</td>\n",
              "    </tr>\n",
              "    <tr>\n",
              "      <th>revol_util</th>\n",
              "      <td>0.060663</td>\n",
              "    </tr>\n",
              "    <tr>\n",
              "      <th>inq_last_6mths</th>\n",
              "      <td>0.064318</td>\n",
              "    </tr>\n",
              "    <tr>\n",
              "      <th>funded_amnt_inv</th>\n",
              "      <td>0.065160</td>\n",
              "    </tr>\n",
              "    <tr>\n",
              "      <th>loan_amnt</th>\n",
              "      <td>0.065280</td>\n",
              "    </tr>\n",
              "    <tr>\n",
              "      <th>funded_amnt</th>\n",
              "      <td>0.065349</td>\n",
              "    </tr>\n",
              "    <tr>\n",
              "      <th>bc_util</th>\n",
              "      <td>0.067065</td>\n",
              "    </tr>\n",
              "    <tr>\n",
              "      <th>percent_bc_gt_75</th>\n",
              "      <td>0.068538</td>\n",
              "    </tr>\n",
              "    <tr>\n",
              "      <th>num_rev_tl_bal_gt_0</th>\n",
              "      <td>0.068691</td>\n",
              "    </tr>\n",
              "    <tr>\n",
              "      <th>num_actv_rev_tl</th>\n",
              "      <td>0.070225</td>\n",
              "    </tr>\n",
              "    <tr>\n",
              "      <th>tot_cur_bal</th>\n",
              "      <td>0.071482</td>\n",
              "    </tr>\n",
              "    <tr>\n",
              "      <th>total_bc_limit</th>\n",
              "      <td>0.072652</td>\n",
              "    </tr>\n",
              "    <tr>\n",
              "      <th>mort_acc</th>\n",
              "      <td>0.074902</td>\n",
              "    </tr>\n",
              "    <tr>\n",
              "      <th>tot_hi_cred_lim</th>\n",
              "      <td>0.077482</td>\n",
              "    </tr>\n",
              "    <tr>\n",
              "      <th>avg_cur_bal</th>\n",
              "      <td>0.078729</td>\n",
              "    </tr>\n",
              "    <tr>\n",
              "      <th>bc_open_to_buy</th>\n",
              "      <td>0.081819</td>\n",
              "    </tr>\n",
              "    <tr>\n",
              "      <th>num_tl_op_past_12m</th>\n",
              "      <td>0.083561</td>\n",
              "    </tr>\n",
              "    <tr>\n",
              "      <th>dti</th>\n",
              "      <td>0.087190</td>\n",
              "    </tr>\n",
              "    <tr>\n",
              "      <th>acc_open_past_24mths</th>\n",
              "      <td>0.099143</td>\n",
              "    </tr>\n",
              "    <tr>\n",
              "      <th>total_rec_late_fee</th>\n",
              "      <td>0.140446</td>\n",
              "    </tr>\n",
              "    <tr>\n",
              "      <th>int_rate</th>\n",
              "      <td>0.257736</td>\n",
              "    </tr>\n",
              "    <tr>\n",
              "      <th>total_pymnt_inv</th>\n",
              "      <td>0.318179</td>\n",
              "    </tr>\n",
              "    <tr>\n",
              "      <th>total_pymnt</th>\n",
              "      <td>0.318624</td>\n",
              "    </tr>\n",
              "    <tr>\n",
              "      <th>last_pymnt_amnt</th>\n",
              "      <td>0.350463</td>\n",
              "    </tr>\n",
              "    <tr>\n",
              "      <th>total_rec_prncp</th>\n",
              "      <td>0.441184</td>\n",
              "    </tr>\n",
              "    <tr>\n",
              "      <th>collection_recovery_fee</th>\n",
              "      <td>0.473721</td>\n",
              "    </tr>\n",
              "    <tr>\n",
              "      <th>recoveries</th>\n",
              "      <td>0.498831</td>\n",
              "    </tr>\n",
              "    <tr>\n",
              "      <th>loan_status</th>\n",
              "      <td>1.000000</td>\n",
              "    </tr>\n",
              "    <tr>\n",
              "      <th>policy_code</th>\n",
              "      <td>NaN</td>\n",
              "    </tr>\n",
              "  </tbody>\n",
              "</table>\n",
              "</div>"
            ],
            "text/plain": [
              "                         loan_status\n",
              "total_rec_int               0.056074\n",
              "mths_since_recent_inq       0.057126\n",
              "total_rev_hi_lim            0.058353\n",
              "revol_util                  0.060663\n",
              "inq_last_6mths              0.064318\n",
              "funded_amnt_inv             0.065160\n",
              "loan_amnt                   0.065280\n",
              "funded_amnt                 0.065349\n",
              "bc_util                     0.067065\n",
              "percent_bc_gt_75            0.068538\n",
              "num_rev_tl_bal_gt_0         0.068691\n",
              "num_actv_rev_tl             0.070225\n",
              "tot_cur_bal                 0.071482\n",
              "total_bc_limit              0.072652\n",
              "mort_acc                    0.074902\n",
              "tot_hi_cred_lim             0.077482\n",
              "avg_cur_bal                 0.078729\n",
              "bc_open_to_buy              0.081819\n",
              "num_tl_op_past_12m          0.083561\n",
              "dti                         0.087190\n",
              "acc_open_past_24mths        0.099143\n",
              "total_rec_late_fee          0.140446\n",
              "int_rate                    0.257736\n",
              "total_pymnt_inv             0.318179\n",
              "total_pymnt                 0.318624\n",
              "last_pymnt_amnt             0.350463\n",
              "total_rec_prncp             0.441184\n",
              "collection_recovery_fee     0.473721\n",
              "recoveries                  0.498831\n",
              "loan_status                 1.000000\n",
              "policy_code                      NaN"
            ]
          },
          "metadata": {
            "tags": []
          },
          "execution_count": 18
        }
      ]
    },
    {
      "cell_type": "code",
      "metadata": {
        "scrolled": true,
        "id": "-kzZISRMmMMf",
        "colab_type": "code",
        "outputId": "fd1d7be4-9113-46f0-b43e-df6530e4da34",
        "colab": {
          "base_uri": "https://localhost:8080/",
          "height": 199
        }
      },
      "source": [
        "np.absolute(int_df.corr()[['loan_status']]).sort_values(by='loan_status')[35:].index"
      ],
      "execution_count": 19,
      "outputs": [
        {
          "output_type": "execute_result",
          "data": {
            "text/plain": [
              "Index(['total_rec_int', 'mths_since_recent_inq', 'total_rev_hi_lim',\n",
              "       'revol_util', 'inq_last_6mths', 'funded_amnt_inv', 'loan_amnt',\n",
              "       'funded_amnt', 'bc_util', 'percent_bc_gt_75', 'num_rev_tl_bal_gt_0',\n",
              "       'num_actv_rev_tl', 'tot_cur_bal', 'total_bc_limit', 'mort_acc',\n",
              "       'tot_hi_cred_lim', 'avg_cur_bal', 'bc_open_to_buy',\n",
              "       'num_tl_op_past_12m', 'dti', 'acc_open_past_24mths',\n",
              "       'total_rec_late_fee', 'int_rate', 'total_pymnt_inv', 'total_pymnt',\n",
              "       'last_pymnt_amnt', 'total_rec_prncp', 'collection_recovery_fee',\n",
              "       'recoveries', 'loan_status', 'policy_code'],\n",
              "      dtype='object')"
            ]
          },
          "metadata": {
            "tags": []
          },
          "execution_count": 19
        }
      ]
    },
    {
      "cell_type": "code",
      "metadata": {
        "id": "qBsTdhrDmMMk",
        "colab_type": "code",
        "colab": {}
      },
      "source": [
        "cat_df = df.select_dtypes(include=['O'])"
      ],
      "execution_count": 0,
      "outputs": []
    },
    {
      "cell_type": "code",
      "metadata": {
        "id": "6uyjXz5DmMMo",
        "colab_type": "code",
        "outputId": "43dcd8f6-a0ee-4625-b4b4-24ec21cd6271",
        "colab": {
          "base_uri": "https://localhost:8080/",
          "height": 305
        }
      },
      "source": [
        "cat_df.head()"
      ],
      "execution_count": 21,
      "outputs": [
        {
          "output_type": "execute_result",
          "data": {
            "text/html": [
              "<div>\n",
              "<style scoped>\n",
              "    .dataframe tbody tr th:only-of-type {\n",
              "        vertical-align: middle;\n",
              "    }\n",
              "\n",
              "    .dataframe tbody tr th {\n",
              "        vertical-align: top;\n",
              "    }\n",
              "\n",
              "    .dataframe thead th {\n",
              "        text-align: right;\n",
              "    }\n",
              "</style>\n",
              "<table border=\"1\" class=\"dataframe\">\n",
              "  <thead>\n",
              "    <tr style=\"text-align: right;\">\n",
              "      <th></th>\n",
              "      <th>term</th>\n",
              "      <th>grade</th>\n",
              "      <th>sub_grade</th>\n",
              "      <th>emp_title</th>\n",
              "      <th>emp_length</th>\n",
              "      <th>home_ownership</th>\n",
              "      <th>verification_status</th>\n",
              "      <th>issue_d</th>\n",
              "      <th>pymnt_plan</th>\n",
              "      <th>purpose</th>\n",
              "      <th>title</th>\n",
              "      <th>zip_code</th>\n",
              "      <th>addr_state</th>\n",
              "      <th>earliest_cr_line</th>\n",
              "      <th>initial_list_status</th>\n",
              "      <th>last_pymnt_d</th>\n",
              "      <th>last_credit_pull_d</th>\n",
              "      <th>application_type</th>\n",
              "      <th>hardship_flag</th>\n",
              "      <th>disbursement_method</th>\n",
              "      <th>debt_settlement_flag</th>\n",
              "    </tr>\n",
              "  </thead>\n",
              "  <tbody>\n",
              "    <tr>\n",
              "      <th>0</th>\n",
              "      <td>36 months</td>\n",
              "      <td>B</td>\n",
              "      <td>B2</td>\n",
              "      <td>Registered Nurse</td>\n",
              "      <td>5 years</td>\n",
              "      <td>RENT</td>\n",
              "      <td>Source Verified</td>\n",
              "      <td>Jun-2015</td>\n",
              "      <td>n</td>\n",
              "      <td>debt_consolidation</td>\n",
              "      <td>Debt consolidation</td>\n",
              "      <td>913xx</td>\n",
              "      <td>CA</td>\n",
              "      <td>Sep-1999</td>\n",
              "      <td>f</td>\n",
              "      <td>Jun-2018</td>\n",
              "      <td>Feb-2019</td>\n",
              "      <td>Individual</td>\n",
              "      <td>N</td>\n",
              "      <td>Cash</td>\n",
              "      <td>N</td>\n",
              "    </tr>\n",
              "    <tr>\n",
              "      <th>1</th>\n",
              "      <td>36 months</td>\n",
              "      <td>A</td>\n",
              "      <td>A1</td>\n",
              "      <td>Foreman</td>\n",
              "      <td>10+ years</td>\n",
              "      <td>MORTGAGE</td>\n",
              "      <td>Not Verified</td>\n",
              "      <td>Aug-2016</td>\n",
              "      <td>n</td>\n",
              "      <td>debt_consolidation</td>\n",
              "      <td>Debt consolidation</td>\n",
              "      <td>740xx</td>\n",
              "      <td>OK</td>\n",
              "      <td>Dec-2001</td>\n",
              "      <td>f</td>\n",
              "      <td>Aug-2018</td>\n",
              "      <td>Feb-2019</td>\n",
              "      <td>Individual</td>\n",
              "      <td>N</td>\n",
              "      <td>Cash</td>\n",
              "      <td>N</td>\n",
              "    </tr>\n",
              "    <tr>\n",
              "      <th>2</th>\n",
              "      <td>36 months</td>\n",
              "      <td>B</td>\n",
              "      <td>B3</td>\n",
              "      <td>Staff Accountant</td>\n",
              "      <td>1 year</td>\n",
              "      <td>RENT</td>\n",
              "      <td>Not Verified</td>\n",
              "      <td>Mar-2016</td>\n",
              "      <td>n</td>\n",
              "      <td>debt_consolidation</td>\n",
              "      <td>Debt consolidation</td>\n",
              "      <td>980xx</td>\n",
              "      <td>WA</td>\n",
              "      <td>Oct-2004</td>\n",
              "      <td>w</td>\n",
              "      <td>May-2017</td>\n",
              "      <td>Feb-2019</td>\n",
              "      <td>Individual</td>\n",
              "      <td>N</td>\n",
              "      <td>Cash</td>\n",
              "      <td>N</td>\n",
              "    </tr>\n",
              "    <tr>\n",
              "      <th>3</th>\n",
              "      <td>36 months</td>\n",
              "      <td>C</td>\n",
              "      <td>C1</td>\n",
              "      <td>ADMINISTRATOR</td>\n",
              "      <td>10+ years</td>\n",
              "      <td>MORTGAGE</td>\n",
              "      <td>Source Verified</td>\n",
              "      <td>Nov-2014</td>\n",
              "      <td>n</td>\n",
              "      <td>debt_consolidation</td>\n",
              "      <td>Debt consolidation</td>\n",
              "      <td>150xx</td>\n",
              "      <td>PA</td>\n",
              "      <td>Jun-1991</td>\n",
              "      <td>w</td>\n",
              "      <td>Nov-2017</td>\n",
              "      <td>Aug-2018</td>\n",
              "      <td>Individual</td>\n",
              "      <td>N</td>\n",
              "      <td>Cash</td>\n",
              "      <td>N</td>\n",
              "    </tr>\n",
              "    <tr>\n",
              "      <th>4</th>\n",
              "      <td>36 months</td>\n",
              "      <td>B</td>\n",
              "      <td>B5</td>\n",
              "      <td>Chemistry Supervisor</td>\n",
              "      <td>10+ years</td>\n",
              "      <td>MORTGAGE</td>\n",
              "      <td>Not Verified</td>\n",
              "      <td>Sep-2014</td>\n",
              "      <td>n</td>\n",
              "      <td>other</td>\n",
              "      <td>Other</td>\n",
              "      <td>441xx</td>\n",
              "      <td>OH</td>\n",
              "      <td>Jul-1979</td>\n",
              "      <td>w</td>\n",
              "      <td>Sep-2017</td>\n",
              "      <td>Feb-2019</td>\n",
              "      <td>Individual</td>\n",
              "      <td>N</td>\n",
              "      <td>Cash</td>\n",
              "      <td>N</td>\n",
              "    </tr>\n",
              "  </tbody>\n",
              "</table>\n",
              "</div>"
            ],
            "text/plain": [
              "         term grade  ... disbursement_method debt_settlement_flag\n",
              "0   36 months     B  ...                Cash                    N\n",
              "1   36 months     A  ...                Cash                    N\n",
              "2   36 months     B  ...                Cash                    N\n",
              "3   36 months     C  ...                Cash                    N\n",
              "4   36 months     B  ...                Cash                    N\n",
              "\n",
              "[5 rows x 21 columns]"
            ]
          },
          "metadata": {
            "tags": []
          },
          "execution_count": 21
        }
      ]
    },
    {
      "cell_type": "code",
      "metadata": {
        "id": "LSbmbzBymMMt",
        "colab_type": "code",
        "outputId": "c1b8aa18-e28d-4ff5-d4b3-57e6a74cab68",
        "colab": {
          "base_uri": "https://localhost:8080/",
          "height": 35
        }
      },
      "source": [
        "cat_df.shape"
      ],
      "execution_count": 22,
      "outputs": [
        {
          "output_type": "execute_result",
          "data": {
            "text/plain": [
              "(391091, 21)"
            ]
          },
          "metadata": {
            "tags": []
          },
          "execution_count": 22
        }
      ]
    },
    {
      "cell_type": "code",
      "metadata": {
        "id": "dKnelV_vmMMz",
        "colab_type": "code",
        "outputId": "98c42a25-43cd-418b-e4bc-e81a6a100295",
        "colab": {
          "base_uri": "https://localhost:8080/",
          "height": 35
        }
      },
      "source": [
        "cat_df.grade.unique()"
      ],
      "execution_count": 23,
      "outputs": [
        {
          "output_type": "execute_result",
          "data": {
            "text/plain": [
              "array(['B', 'A', 'C', 'D', 'E', 'G', 'F'], dtype=object)"
            ]
          },
          "metadata": {
            "tags": []
          },
          "execution_count": 23
        }
      ]
    },
    {
      "cell_type": "code",
      "metadata": {
        "id": "xhGXSbxCmMM9",
        "colab_type": "code",
        "outputId": "e0056e65-54a2-4d22-dd35-d3c9ac2f2d5e",
        "colab": {
          "base_uri": "https://localhost:8080/",
          "height": 145
        }
      },
      "source": [
        "cat_df.columns"
      ],
      "execution_count": 24,
      "outputs": [
        {
          "output_type": "execute_result",
          "data": {
            "text/plain": [
              "Index(['term', 'grade', 'sub_grade', 'emp_title', 'emp_length',\n",
              "       'home_ownership', 'verification_status', 'issue_d', 'pymnt_plan',\n",
              "       'purpose', 'title', 'zip_code', 'addr_state', 'earliest_cr_line',\n",
              "       'initial_list_status', 'last_pymnt_d', 'last_credit_pull_d',\n",
              "       'application_type', 'hardship_flag', 'disbursement_method',\n",
              "       'debt_settlement_flag'],\n",
              "      dtype='object')"
            ]
          },
          "metadata": {
            "tags": []
          },
          "execution_count": 24
        }
      ]
    },
    {
      "cell_type": "code",
      "metadata": {
        "id": "CtlmlipJ3sOy",
        "colab_type": "code",
        "colab": {}
      },
      "source": [
        "# Encoding grade as a predictor variable\n",
        "encode = {'A': 1, 'B': 2, 'C': 3, 'D': 4, 'E': 5, 'F': 6,'G': 7}\n",
        "cat_df['grade'].replace(encode, inplace=True)\n",
        "\n",
        "# adding encoded grade feature to int_df dataframe for modeling\n",
        "int_df['grade'] = cat_df['grade'].copy()"
      ],
      "execution_count": 0,
      "outputs": []
    },
    {
      "cell_type": "markdown",
      "metadata": {
        "id": "9gqhQP1emMNF",
        "colab_type": "text"
      },
      "source": [
        "## Modeling with continuous predictor variables"
      ]
    },
    {
      "cell_type": "code",
      "metadata": {
        "id": "xIK4OLCumMNG",
        "colab_type": "code",
        "outputId": "7fa8a12e-6fea-4b5f-f492-0213fb79f1ef",
        "colab": {
          "base_uri": "https://localhost:8080/",
          "height": 322
        }
      },
      "source": [
        "# plotting the distribution of the target variable\n",
        "sns.countplot(df['loan_status'])"
      ],
      "execution_count": 26,
      "outputs": [
        {
          "output_type": "execute_result",
          "data": {
            "text/plain": [
              "<matplotlib.axes._subplots.AxesSubplot at 0x7fa40437c588>"
            ]
          },
          "metadata": {
            "tags": []
          },
          "execution_count": 26
        },
        {
          "output_type": "display_data",
          "data": {
            "image/png": "[encoded data removed]",
            "text/plain": [
              "<Figure size 432x288 with 1 Axes>"
            ]
          },
          "metadata": {
            "tags": []
          }
        }
      ]
    },
    {
      "cell_type": "code",
      "metadata": {
        "id": "RYV41USsFY5y",
        "colab_type": "code",
        "colab": {}
      },
      "source": [
        "# filling missing values with IterativeImputer\n",
        "\n",
        "from sklearn.experimental import enable_iterative_imputer\n",
        "from sklearn.impute import IterativeImputer\n",
        "imp = IterativeImputer(max_iter=1, verbose=0)\n",
        "imputed_df = imp.fit_transform(int_df)\n",
        "int_df = pd.DataFrame(imputed_df, columns=int_df.columns)"
      ],
      "execution_count": 0,
      "outputs": []
    },
    {
      "cell_type": "code",
      "metadata": {
        "id": "bQkp3dA0KX9v",
        "colab_type": "code",
        "colab": {}
      },
      "source": [
        "int_df['loan_status'] = df['loan_status'].copy()"
      ],
      "execution_count": 0,
      "outputs": []
    },
    {
      "cell_type": "code",
      "metadata": {
        "id": "Ilh7dM77KEmF",
        "colab_type": "code",
        "outputId": "5965953d-b45a-4c63-b328-dc5424aa075b",
        "colab": {
          "base_uri": "https://localhost:8080/",
          "height": 235
        }
      },
      "source": [
        "# finding the sum of null values in the df after Iterative imputation\n",
        "int_df.isna().sum()"
      ],
      "execution_count": 29,
      "outputs": [
        {
          "output_type": "execute_result",
          "data": {
            "text/plain": [
              "loan_amnt                     0\n",
              "funded_amnt                   0\n",
              "funded_amnt_inv               0\n",
              "int_rate                      0\n",
              "installment                   0\n",
              "                             ..\n",
              "tot_hi_cred_lim               0\n",
              "total_bal_ex_mort             0\n",
              "total_bc_limit                0\n",
              "total_il_high_credit_limit    0\n",
              "grade                         0\n",
              "Length: 67, dtype: int64"
            ]
          },
          "metadata": {
            "tags": []
          },
          "execution_count": 29
        }
      ]
    },
    {
      "cell_type": "code",
      "metadata": {
        "id": "FjUh5RceIjgu",
        "colab_type": "code",
        "colab": {}
      },
      "source": [
        "from google.colab import files\n",
        "\n",
        "int_df.to_csv('int_df.csv')\n",
        "files.download('int_df.csv')"
      ],
      "execution_count": 0,
      "outputs": []
    },
    {
      "cell_type": "markdown",
      "metadata": {
        "id": "Mmx16ZeyMq8U",
        "colab_type": "text"
      },
      "source": [
        "## Model Feature Selection "
      ]
    },
    {
      "cell_type": "code",
      "metadata": {
        "id": "vNxQ5ZMnznQN",
        "colab_type": "code",
        "colab": {}
      },
      "source": [
        "X_test_df = int_df[['total_rec_late_fee', 'int_rate', 'total_pymnt_inv', 'total_pymnt', 'grade', 'last_pymnt_amnt', 'total_rec_prncp',\n",
        "             'collection_recovery_fee', 'recoveries', 'loan_status']].copy()"
      ],
      "execution_count": 0,
      "outputs": []
    },
    {
      "cell_type": "code",
      "metadata": {
        "id": "8g8oU7qGxihW",
        "colab_type": "code",
        "outputId": "ae4ae2a4-0ce7-4eb2-ba2e-ff8ca49e0f18",
        "colab": {
          "base_uri": "https://localhost:8080/",
          "height": 456
        }
      },
      "source": [
        "# checking for little or no multicollinearity between good predictor variables\n",
        "sns.heatmap(X_test_df.corr(), annot=True)"
      ],
      "execution_count": 59,
      "outputs": [
        {
          "output_type": "execute_result",
          "data": {
            "text/plain": [
              "<matplotlib.axes._subplots.AxesSubplot at 0x7fa400313e80>"
            ]
          },
          "metadata": {
            "tags": []
          },
          "execution_count": 59
        },
        {
          "output_type": "display_data",
          "data": {
            "image/png": "[encoded data removed]",
            "text/plain": [
              "<Figure size 432x288 with 2 Axes>"
            ]
          },
          "metadata": {
            "tags": []
          }
        }
      ]
    },
    {
      "cell_type": "code",
      "metadata": {
        "id": "sc8fS1M9Melj",
        "colab_type": "code",
        "colab": {}
      },
      "source": [
        "# feature selection while dealing with multicollinearity\n",
        "X = int_df[['total_rec_int', 'mths_since_recent_inq', 'total_rev_hi_lim','revol_util', 'inq_last_6mths','funded_amnt_inv','loan_amnt','funded_amnt',\n",
        "            'bc_util', 'percent_bc_gt_75', 'num_rev_tl_bal_gt_0','num_actv_rev_tl', 'tot_cur_bal', 'total_bc_limit', 'mort_acc',\n",
        "            'tot_hi_cred_lim', 'avg_cur_bal', 'bc_open_to_buy','num_tl_op_past_12m', 'dti', 'acc_open_past_24mths', 'total_rec_late_fee',\n",
        "            'int_rate','total_rec_prncp','recoveries']]   \n",
        "# Dropped columns as a result of multicollinearity: 'collection_recovery_fee','total_pymnt_inv','total_pymnt','grade','last_pymnt_amnt'\n",
        "y = int_df['loan_status']"
      ],
      "execution_count": 0,
      "outputs": []
    },
    {
      "cell_type": "code",
      "metadata": {
        "id": "2rsZ8X-NmMNY",
        "colab_type": "code",
        "outputId": "0d8145d3-5c37-4d18-c9ca-95bbd77b1c54",
        "colab": {
          "base_uri": "https://localhost:8080/",
          "height": 308
        }
      },
      "source": [
        "# values to be scaled later\n",
        "X.describe()                                               "
      ],
      "execution_count": 78,
      "outputs": [
        {
          "output_type": "execute_result",
          "data": {
            "text/html": [
              "<div>\n",
              "<style scoped>\n",
              "    .dataframe tbody tr th:only-of-type {\n",
              "        vertical-align: middle;\n",
              "    }\n",
              "\n",
              "    .dataframe tbody tr th {\n",
              "        vertical-align: top;\n",
              "    }\n",
              "\n",
              "    .dataframe thead th {\n",
              "        text-align: right;\n",
              "    }\n",
              "</style>\n",
              "<table border=\"1\" class=\"dataframe\">\n",
              "  <thead>\n",
              "    <tr style=\"text-align: right;\">\n",
              "      <th></th>\n",
              "      <th>total_rec_int</th>\n",
              "      <th>mths_since_recent_inq</th>\n",
              "      <th>total_rev_hi_lim</th>\n",
              "      <th>revol_util</th>\n",
              "      <th>inq_last_6mths</th>\n",
              "      <th>funded_amnt_inv</th>\n",
              "      <th>loan_amnt</th>\n",
              "      <th>funded_amnt</th>\n",
              "      <th>bc_util</th>\n",
              "      <th>percent_bc_gt_75</th>\n",
              "      <th>num_rev_tl_bal_gt_0</th>\n",
              "      <th>num_actv_rev_tl</th>\n",
              "      <th>tot_cur_bal</th>\n",
              "      <th>total_bc_limit</th>\n",
              "      <th>mort_acc</th>\n",
              "      <th>tot_hi_cred_lim</th>\n",
              "      <th>avg_cur_bal</th>\n",
              "      <th>bc_open_to_buy</th>\n",
              "      <th>num_tl_op_past_12m</th>\n",
              "      <th>dti</th>\n",
              "      <th>acc_open_past_24mths</th>\n",
              "      <th>total_rec_late_fee</th>\n",
              "      <th>int_rate</th>\n",
              "      <th>total_rec_prncp</th>\n",
              "      <th>recoveries</th>\n",
              "    </tr>\n",
              "  </thead>\n",
              "  <tbody>\n",
              "    <tr>\n",
              "      <th>count</th>\n",
              "      <td>391091.000000</td>\n",
              "      <td>391091.000000</td>\n",
              "      <td>3.910910e+05</td>\n",
              "      <td>391091.000000</td>\n",
              "      <td>391091.000000</td>\n",
              "      <td>391091.000000</td>\n",
              "      <td>391091.000000</td>\n",
              "      <td>391091.000000</td>\n",
              "      <td>391091.000000</td>\n",
              "      <td>391091.000000</td>\n",
              "      <td>391091.000000</td>\n",
              "      <td>391091.000000</td>\n",
              "      <td>3.910910e+05</td>\n",
              "      <td>3.910910e+05</td>\n",
              "      <td>391091.000000</td>\n",
              "      <td>3.910910e+05</td>\n",
              "      <td>391091.000000</td>\n",
              "      <td>391091.000000</td>\n",
              "      <td>391091.000000</td>\n",
              "      <td>391091.000000</td>\n",
              "      <td>391091.000000</td>\n",
              "      <td>3.910910e+05</td>\n",
              "      <td>391091.000000</td>\n",
              "      <td>391091.000000</td>\n",
              "      <td>391091.000000</td>\n",
              "    </tr>\n",
              "    <tr>\n",
              "      <th>mean</th>\n",
              "      <td>2389.595285</td>\n",
              "      <td>7.045470</td>\n",
              "      <td>3.245535e+04</td>\n",
              "      <td>51.943314</td>\n",
              "      <td>0.658062</td>\n",
              "      <td>14383.725432</td>\n",
              "      <td>14415.314466</td>\n",
              "      <td>14406.373005</td>\n",
              "      <td>60.088853</td>\n",
              "      <td>45.387652</td>\n",
              "      <td>5.582784</td>\n",
              "      <td>5.632496</td>\n",
              "      <td>1.406196e+05</td>\n",
              "      <td>2.150080e+04</td>\n",
              "      <td>1.658403</td>\n",
              "      <td>1.738544e+05</td>\n",
              "      <td>13528.051570</td>\n",
              "      <td>10014.613452</td>\n",
              "      <td>2.167590</td>\n",
              "      <td>18.226554</td>\n",
              "      <td>4.668024</td>\n",
              "      <td>1.556729e+00</td>\n",
              "      <td>13.263880</td>\n",
              "      <td>12161.530052</td>\n",
              "      <td>234.968618</td>\n",
              "    </tr>\n",
              "    <tr>\n",
              "      <th>std</th>\n",
              "      <td>2592.454542</td>\n",
              "      <td>5.638721</td>\n",
              "      <td>3.238990e+04</td>\n",
              "      <td>24.532675</td>\n",
              "      <td>0.940042</td>\n",
              "      <td>8710.172632</td>\n",
              "      <td>8712.171819</td>\n",
              "      <td>8707.771660</td>\n",
              "      <td>27.853250</td>\n",
              "      <td>35.183592</td>\n",
              "      <td>3.122325</td>\n",
              "      <td>3.203746</td>\n",
              "      <td>1.526565e+05</td>\n",
              "      <td>2.104393e+04</td>\n",
              "      <td>2.207548</td>\n",
              "      <td>1.740294e+05</td>\n",
              "      <td>15808.446200</td>\n",
              "      <td>14949.261506</td>\n",
              "      <td>1.805366</td>\n",
              "      <td>10.866199</td>\n",
              "      <td>3.133304</td>\n",
              "      <td>1.067662e+01</td>\n",
              "      <td>4.755226</td>\n",
              "      <td>8861.606328</td>\n",
              "      <td>939.759603</td>\n",
              "    </tr>\n",
              "    <tr>\n",
              "      <th>min</th>\n",
              "      <td>0.000000</td>\n",
              "      <td>-57.239791</td>\n",
              "      <td>-5.251100e+04</td>\n",
              "      <td>-14.543574</td>\n",
              "      <td>0.000000</td>\n",
              "      <td>0.000000</td>\n",
              "      <td>500.000000</td>\n",
              "      <td>500.000000</td>\n",
              "      <td>0.000000</td>\n",
              "      <td>-58.545598</td>\n",
              "      <td>0.000000</td>\n",
              "      <td>0.000000</td>\n",
              "      <td>-5.521628e+04</td>\n",
              "      <td>0.000000e+00</td>\n",
              "      <td>-26.998407</td>\n",
              "      <td>-7.337556e+04</td>\n",
              "      <td>-11202.487439</td>\n",
              "      <td>-36934.348487</td>\n",
              "      <td>-1.582328</td>\n",
              "      <td>0.000000</td>\n",
              "      <td>-0.907539</td>\n",
              "      <td>-2.000000e-10</td>\n",
              "      <td>5.310000</td>\n",
              "      <td>0.000000</td>\n",
              "      <td>0.000000</td>\n",
              "    </tr>\n",
              "    <tr>\n",
              "      <th>25%</th>\n",
              "      <td>763.320000</td>\n",
              "      <td>2.000000</td>\n",
              "      <td>1.430000e+04</td>\n",
              "      <td>33.600000</td>\n",
              "      <td>0.000000</td>\n",
              "      <td>7900.000000</td>\n",
              "      <td>8000.000000</td>\n",
              "      <td>8000.000000</td>\n",
              "      <td>39.007786</td>\n",
              "      <td>14.300000</td>\n",
              "      <td>3.000000</td>\n",
              "      <td>3.000000</td>\n",
              "      <td>3.102000e+04</td>\n",
              "      <td>8.000000e+03</td>\n",
              "      <td>0.000000</td>\n",
              "      <td>5.173500e+04</td>\n",
              "      <td>3251.000000</td>\n",
              "      <td>1453.000000</td>\n",
              "      <td>1.000000</td>\n",
              "      <td>11.760000</td>\n",
              "      <td>2.000000</td>\n",
              "      <td>0.000000e+00</td>\n",
              "      <td>9.750000</td>\n",
              "      <td>5000.000000</td>\n",
              "      <td>0.000000</td>\n",
              "    </tr>\n",
              "    <tr>\n",
              "      <th>50%</th>\n",
              "      <td>1564.330000</td>\n",
              "      <td>6.000000</td>\n",
              "      <td>2.440000e+04</td>\n",
              "      <td>52.400000</td>\n",
              "      <td>0.000000</td>\n",
              "      <td>12000.000000</td>\n",
              "      <td>12000.000000</td>\n",
              "      <td>12000.000000</td>\n",
              "      <td>63.200000</td>\n",
              "      <td>45.657118</td>\n",
              "      <td>5.000000</td>\n",
              "      <td>5.000000</td>\n",
              "      <td>9.180500e+04</td>\n",
              "      <td>1.550000e+04</td>\n",
              "      <td>1.000000</td>\n",
              "      <td>1.249000e+05</td>\n",
              "      <td>8265.000000</td>\n",
              "      <td>4841.000000</td>\n",
              "      <td>2.000000</td>\n",
              "      <td>17.570000</td>\n",
              "      <td>4.000000</td>\n",
              "      <td>0.000000e+00</td>\n",
              "      <td>12.790000</td>\n",
              "      <td>10000.000000</td>\n",
              "      <td>0.000000</td>\n",
              "    </tr>\n",
              "    <tr>\n",
              "      <th>75%</th>\n",
              "      <td>3019.675000</td>\n",
              "      <td>10.126842</td>\n",
              "      <td>3.990000e+04</td>\n",
              "      <td>70.800000</td>\n",
              "      <td>1.000000</td>\n",
              "      <td>20000.000000</td>\n",
              "      <td>20000.000000</td>\n",
              "      <td>20000.000000</td>\n",
              "      <td>84.300000</td>\n",
              "      <td>75.000000</td>\n",
              "      <td>7.000000</td>\n",
              "      <td>7.000000</td>\n",
              "      <td>2.034335e+05</td>\n",
              "      <td>2.750000e+04</td>\n",
              "      <td>3.000000</td>\n",
              "      <td>2.436440e+05</td>\n",
              "      <td>18089.000000</td>\n",
              "      <td>12223.000000</td>\n",
              "      <td>3.000000</td>\n",
              "      <td>24.010000</td>\n",
              "      <td>6.000000</td>\n",
              "      <td>0.000000e+00</td>\n",
              "      <td>15.990000</td>\n",
              "      <td>17125.000000</td>\n",
              "      <td>0.000000</td>\n",
              "    </tr>\n",
              "    <tr>\n",
              "      <th>max</th>\n",
              "      <td>27884.800000</td>\n",
              "      <td>76.352927</td>\n",
              "      <td>1.649101e+06</td>\n",
              "      <td>892.300000</td>\n",
              "      <td>8.000000</td>\n",
              "      <td>40000.000000</td>\n",
              "      <td>40000.000000</td>\n",
              "      <td>40000.000000</td>\n",
              "      <td>533.476983</td>\n",
              "      <td>106.220248</td>\n",
              "      <td>43.000000</td>\n",
              "      <td>47.000000</td>\n",
              "      <td>4.151547e+06</td>\n",
              "      <td>1.105500e+06</td>\n",
              "      <td>51.000000</td>\n",
              "      <td>9.999999e+06</td>\n",
              "      <td>497484.000000</td>\n",
              "      <td>497445.000000</td>\n",
              "      <td>32.000000</td>\n",
              "      <td>999.000000</td>\n",
              "      <td>48.000000</td>\n",
              "      <td>9.298000e+02</td>\n",
              "      <td>30.990000</td>\n",
              "      <td>40000.000000</td>\n",
              "      <td>39859.550000</td>\n",
              "    </tr>\n",
              "  </tbody>\n",
              "</table>\n",
              "</div>"
            ],
            "text/plain": [
              "       total_rec_int  mths_since_recent_inq  ...  total_rec_prncp     recoveries\n",
              "count  391091.000000          391091.000000  ...    391091.000000  391091.000000\n",
              "mean     2389.595285               7.045470  ...     12161.530052     234.968618\n",
              "std      2592.454542               5.638721  ...      8861.606328     939.759603\n",
              "min         0.000000             -57.239791  ...         0.000000       0.000000\n",
              "25%       763.320000               2.000000  ...      5000.000000       0.000000\n",
              "50%      1564.330000               6.000000  ...     10000.000000       0.000000\n",
              "75%      3019.675000              10.126842  ...     17125.000000       0.000000\n",
              "max     27884.800000              76.352927  ...     40000.000000   39859.550000\n",
              "\n",
              "[8 rows x 25 columns]"
            ]
          },
          "metadata": {
            "tags": []
          },
          "execution_count": 78
        }
      ]
    },
    {
      "cell_type": "code",
      "metadata": {
        "id": "haU3oQN0mMNe",
        "colab_type": "code",
        "colab": {}
      },
      "source": [
        "# splitting data into train and tests sets\n",
        "X_train, X_test, y_train, y_test = train_test_split(X, y, test_size=0.25, random_state=123, stratify=y)"
      ],
      "execution_count": 0,
      "outputs": []
    },
    {
      "cell_type": "markdown",
      "metadata": {
        "id": "pFUG4Ictc05H",
        "colab_type": "text"
      },
      "source": [
        "### Logistic Regression "
      ]
    },
    {
      "cell_type": "code",
      "metadata": {
        "id": "1KZKMs71mMNk",
        "colab_type": "code",
        "colab": {}
      },
      "source": [
        "logreg_model_1 = LogisticRegression()\n",
        "logreg_model_1.fit(X_train,y_train)\n",
        "#y_pred_train = logreg_model_1.predict(X_train)\n",
        "y_pred_test = logreg_model_1.predict(X_test)"
      ],
      "execution_count": 0,
      "outputs": []
    },
    {
      "cell_type": "code",
      "metadata": {
        "id": "1H_-EXbEmMNt",
        "colab_type": "code",
        "outputId": "dac058bd-8dfa-4e95-bb31-c7947634fb12",
        "colab": {
          "base_uri": "https://localhost:8080/",
          "height": 35
        }
      },
      "source": [
        "metrics.accuracy_score(y_test, y_pred_test)"
      ],
      "execution_count": 79,
      "outputs": [
        {
          "output_type": "execute_result",
          "data": {
            "text/plain": [
              "0.9990488171581111"
            ]
          },
          "metadata": {
            "tags": []
          },
          "execution_count": 79
        }
      ]
    },
    {
      "cell_type": "code",
      "metadata": {
        "id": "HFcmr7vTmMNy",
        "colab_type": "code",
        "outputId": "18fe986f-49b2-49cf-ac63-17c040a30d2d",
        "colab": {
          "base_uri": "https://localhost:8080/",
          "height": 54
        }
      },
      "source": [
        "metrics.confusion_matrix(y_test, y_pred_test)"
      ],
      "execution_count": 80,
      "outputs": [
        {
          "output_type": "execute_result",
          "data": {
            "text/plain": [
              "array([[78132,     9],\n",
              "       [   84, 19548]])"
            ]
          },
          "metadata": {
            "tags": []
          },
          "execution_count": 80
        }
      ]
    },
    {
      "cell_type": "code",
      "metadata": {
        "id": "SoJAjcdlmMN7",
        "colab_type": "code",
        "outputId": "7a9d628f-cade-4061-9d24-334ba4178c56",
        "colab": {
          "base_uri": "https://localhost:8080/",
          "height": 181
        }
      },
      "source": [
        "print(metrics.classification_report(y_test, y_pred_test))"
      ],
      "execution_count": 81,
      "outputs": [
        {
          "output_type": "stream",
          "text": [
            "              precision    recall  f1-score   support\n",
            "\n",
            "           0       1.00      1.00      1.00     78141\n",
            "           1       1.00      1.00      1.00     19632\n",
            "\n",
            "    accuracy                           1.00     97773\n",
            "   macro avg       1.00      1.00      1.00     97773\n",
            "weighted avg       1.00      1.00      1.00     97773\n",
            "\n"
          ],
          "name": "stdout"
        }
      ]
    },
    {
      "cell_type": "code",
      "metadata": {
        "id": "FPY4xKo4YtOB",
        "colab_type": "code",
        "colab": {}
      },
      "source": [
        "y_pred_prob = logreg_model_1.predict_proba(X_test)[:,1]"
      ],
      "execution_count": 0,
      "outputs": []
    },
    {
      "cell_type": "code",
      "metadata": {
        "id": "DWcMJ2JCWrqi",
        "colab_type": "code",
        "colab": {
          "base_uri": "https://localhost:8080/",
          "height": 35
        },
        "outputId": "a172098e-25dc-4418-96fd-ae2fc31c964c"
      },
      "source": [
        "metrics.roc_auc_score(y_test, y_pred_prob)"
      ],
      "execution_count": 83,
      "outputs": [
        {
          "output_type": "execute_result",
          "data": {
            "text/plain": [
              "0.9991011581659373"
            ]
          },
          "metadata": {
            "tags": []
          },
          "execution_count": 83
        }
      ]
    },
    {
      "cell_type": "markdown",
      "metadata": {
        "id": "Bm75oE9wfHuR",
        "colab_type": "text"
      },
      "source": [
        "### Support Vector Machine Classifier"
      ]
    },
    {
      "cell_type": "code",
      "metadata": {
        "colab_type": "code",
        "id": "uYd0cVzpE2sI",
        "colab": {}
      },
      "source": [
        "#svm_model_1 = SVC(kernel='linear')\n",
        "#svm_model_1.fit(X_train,y_train)\n",
        "#y_pred_train = svm_model_1.predict(X_train)\n",
        "#y_pred_test = svm_model_1.predict(X_test)"
      ],
      "execution_count": 0,
      "outputs": []
    },
    {
      "cell_type": "code",
      "metadata": {
        "id": "Pn5UzJqGTpx0",
        "colab_type": "code",
        "colab": {}
      },
      "source": [
        "#metrics.accuracy_score(y_test, y_pred_test)"
      ],
      "execution_count": 0,
      "outputs": []
    },
    {
      "cell_type": "code",
      "metadata": {
        "id": "SS5Qdxp9mMPO",
        "colab_type": "code",
        "colab": {}
      },
      "source": [
        "#metrics.confusion_matrix(y_test, y_pred_test)"
      ],
      "execution_count": 0,
      "outputs": []
    },
    {
      "cell_type": "code",
      "metadata": {
        "colab_type": "code",
        "id": "g8oYUQMRE1PF",
        "colab": {}
      },
      "source": [
        "#print(metrics.classification_report(y_test, y_pred_test))"
      ],
      "execution_count": 0,
      "outputs": []
    },
    {
      "cell_type": "markdown",
      "metadata": {
        "id": "mcWBAssDT2bi",
        "colab_type": "text"
      },
      "source": [
        "### RandomForestClassifier"
      ]
    },
    {
      "cell_type": "code",
      "metadata": {
        "id": "Uqhc6Y3BUAcU",
        "colab_type": "code",
        "colab": {}
      },
      "source": [
        "rf_model_1 = RandomForestClassifier()\n",
        "rf_model_1.fit(X_train,y_train)\n",
        "#y_pred_train = rf_model_1.predict(X_train)\n",
        "y_pred_test = rf_model_1.predict(X_test)"
      ],
      "execution_count": 0,
      "outputs": []
    },
    {
      "cell_type": "code",
      "metadata": {
        "id": "pNkkx5oJU2Ub",
        "colab_type": "code",
        "colab": {
          "base_uri": "https://localhost:8080/",
          "height": 35
        },
        "outputId": "db55cec0-7520-43cc-bf41-f74af6141423"
      },
      "source": [
        "metrics.accuracy_score(y_test, y_pred_test)"
      ],
      "execution_count": 85,
      "outputs": [
        {
          "output_type": "execute_result",
          "data": {
            "text/plain": [
              "0.9965941517596882"
            ]
          },
          "metadata": {
            "tags": []
          },
          "execution_count": 85
        }
      ]
    },
    {
      "cell_type": "code",
      "metadata": {
        "id": "xycpVzZBVYFX",
        "colab_type": "code",
        "colab": {
          "base_uri": "https://localhost:8080/",
          "height": 54
        },
        "outputId": "3818ba76-ebf5-457d-9592-d73c02eb1bf5"
      },
      "source": [
        "metrics.confusion_matrix(y_test, y_pred_test)"
      ],
      "execution_count": 86,
      "outputs": [
        {
          "output_type": "execute_result",
          "data": {
            "text/plain": [
              "array([[78140,     1],\n",
              "       [  332, 19300]])"
            ]
          },
          "metadata": {
            "tags": []
          },
          "execution_count": 86
        }
      ]
    },
    {
      "cell_type": "code",
      "metadata": {
        "id": "1IDV-WoDVdvd",
        "colab_type": "code",
        "colab": {
          "base_uri": "https://localhost:8080/",
          "height": 181
        },
        "outputId": "dad9e868-bd5b-4f79-cb30-43524b0c2cbc"
      },
      "source": [
        "print(metrics.classification_report(y_test, y_pred_test))"
      ],
      "execution_count": 87,
      "outputs": [
        {
          "output_type": "stream",
          "text": [
            "              precision    recall  f1-score   support\n",
            "\n",
            "           0       1.00      1.00      1.00     78141\n",
            "           1       1.00      0.98      0.99     19632\n",
            "\n",
            "    accuracy                           1.00     97773\n",
            "   macro avg       1.00      0.99      0.99     97773\n",
            "weighted avg       1.00      1.00      1.00     97773\n",
            "\n"
          ],
          "name": "stdout"
        }
      ]
    },
    {
      "cell_type": "code",
      "metadata": {
        "id": "00w5u6msVkCW",
        "colab_type": "code",
        "colab": {
          "base_uri": "https://localhost:8080/",
          "height": 35
        },
        "outputId": "aff107d9-14ba-4d50-d674-dc44b9bdb77f"
      },
      "source": [
        "y_pred_prob = rf_model_1.predict_proba(X_test)[:,1]\n",
        "metrics.roc_auc_score(y_test, y_pred_prob)"
      ],
      "execution_count": 88,
      "outputs": [
        {
          "output_type": "execute_result",
          "data": {
            "text/plain": [
              "0.9998795734816067"
            ]
          },
          "metadata": {
            "tags": []
          },
          "execution_count": 88
        }
      ]
    },
    {
      "cell_type": "markdown",
      "metadata": {
        "id": "G2VTiNJXbwuZ",
        "colab_type": "text"
      },
      "source": [
        "## MinMaxScaler\n",
        "* Scaling features and remodeling"
      ]
    },
    {
      "cell_type": "code",
      "metadata": {
        "id": "CZhEm5Qzb7oE",
        "colab_type": "code",
        "colab": {}
      },
      "source": [
        "from sklearn.preprocessing import MinMaxScaler, StandardScaler"
      ],
      "execution_count": 0,
      "outputs": []
    },
    {
      "cell_type": "code",
      "metadata": {
        "id": "dA0OklnxdUPZ",
        "colab_type": "code",
        "colab": {}
      },
      "source": [
        "mm = MinMaxScaler()\n",
        "feature_names = X_train.columns\n",
        "X_train_mm = mm.fit_transform(X_train)\n",
        "X_train_mm = pd.DataFrame(X_train_mm, columns=feature_names)\n",
        "X_test_mm = mm.transform(X_test)\n",
        "X_test_mm = pd.DataFrame(X_test_mm, columns=feature_names)"
      ],
      "execution_count": 0,
      "outputs": []
    },
    {
      "cell_type": "code",
      "metadata": {
        "id": "ZY2kUgSvi2Rk",
        "colab_type": "code",
        "colab": {
          "base_uri": "https://localhost:8080/",
          "height": 308
        },
        "outputId": "68ba83fe-5639-4d09-9374-f73928423c58"
      },
      "source": [
        "# showing a DESC of the normalized X_train features\n",
        "X_train_mm.describe()"
      ],
      "execution_count": 102,
      "outputs": [
        {
          "output_type": "execute_result",
          "data": {
            "text/html": [
              "<div>\n",
              "<style scoped>\n",
              "    .dataframe tbody tr th:only-of-type {\n",
              "        vertical-align: middle;\n",
              "    }\n",
              "\n",
              "    .dataframe tbody tr th {\n",
              "        vertical-align: top;\n",
              "    }\n",
              "\n",
              "    .dataframe thead th {\n",
              "        text-align: right;\n",
              "    }\n",
              "</style>\n",
              "<table border=\"1\" class=\"dataframe\">\n",
              "  <thead>\n",
              "    <tr style=\"text-align: right;\">\n",
              "      <th></th>\n",
              "      <th>total_rec_int</th>\n",
              "      <th>mths_since_recent_inq</th>\n",
              "      <th>total_rev_hi_lim</th>\n",
              "      <th>revol_util</th>\n",
              "      <th>inq_last_6mths</th>\n",
              "      <th>funded_amnt_inv</th>\n",
              "      <th>loan_amnt</th>\n",
              "      <th>funded_amnt</th>\n",
              "      <th>bc_util</th>\n",
              "      <th>percent_bc_gt_75</th>\n",
              "      <th>num_rev_tl_bal_gt_0</th>\n",
              "      <th>num_actv_rev_tl</th>\n",
              "      <th>tot_cur_bal</th>\n",
              "      <th>total_bc_limit</th>\n",
              "      <th>mort_acc</th>\n",
              "      <th>tot_hi_cred_lim</th>\n",
              "      <th>avg_cur_bal</th>\n",
              "      <th>bc_open_to_buy</th>\n",
              "      <th>num_tl_op_past_12m</th>\n",
              "      <th>dti</th>\n",
              "      <th>acc_open_past_24mths</th>\n",
              "      <th>total_rec_late_fee</th>\n",
              "      <th>int_rate</th>\n",
              "      <th>total_rec_prncp</th>\n",
              "      <th>recoveries</th>\n",
              "    </tr>\n",
              "  </thead>\n",
              "  <tbody>\n",
              "    <tr>\n",
              "      <th>count</th>\n",
              "      <td>293318.000000</td>\n",
              "      <td>293318.000000</td>\n",
              "      <td>293318.000000</td>\n",
              "      <td>293318.000000</td>\n",
              "      <td>293318.000000</td>\n",
              "      <td>293318.000000</td>\n",
              "      <td>293318.000000</td>\n",
              "      <td>293318.000000</td>\n",
              "      <td>293318.000000</td>\n",
              "      <td>293318.000000</td>\n",
              "      <td>293318.000000</td>\n",
              "      <td>293318.000000</td>\n",
              "      <td>293318.000000</td>\n",
              "      <td>293318.000000</td>\n",
              "      <td>293318.000000</td>\n",
              "      <td>293318.000000</td>\n",
              "      <td>293318.000000</td>\n",
              "      <td>293318.000000</td>\n",
              "      <td>293318.000000</td>\n",
              "      <td>293318.000000</td>\n",
              "      <td>293318.000000</td>\n",
              "      <td>293318.000000</td>\n",
              "      <td>293318.000000</td>\n",
              "      <td>293318.000000</td>\n",
              "      <td>293318.000000</td>\n",
              "    </tr>\n",
              "    <tr>\n",
              "      <th>mean</th>\n",
              "      <td>0.085588</td>\n",
              "      <td>0.481238</td>\n",
              "      <td>0.049892</td>\n",
              "      <td>0.058219</td>\n",
              "      <td>0.082295</td>\n",
              "      <td>0.359388</td>\n",
              "      <td>0.352066</td>\n",
              "      <td>0.351845</td>\n",
              "      <td>0.112666</td>\n",
              "      <td>0.630963</td>\n",
              "      <td>0.129765</td>\n",
              "      <td>0.119771</td>\n",
              "      <td>0.046608</td>\n",
              "      <td>0.019422</td>\n",
              "      <td>0.367443</td>\n",
              "      <td>0.024566</td>\n",
              "      <td>0.048191</td>\n",
              "      <td>0.087814</td>\n",
              "      <td>0.111701</td>\n",
              "      <td>0.018243</td>\n",
              "      <td>0.114052</td>\n",
              "      <td>0.001674</td>\n",
              "      <td>0.309663</td>\n",
              "      <td>0.303943</td>\n",
              "      <td>0.005890</td>\n",
              "    </tr>\n",
              "    <tr>\n",
              "      <th>std</th>\n",
              "      <td>0.092972</td>\n",
              "      <td>0.042216</td>\n",
              "      <td>0.018859</td>\n",
              "      <td>0.027514</td>\n",
              "      <td>0.117670</td>\n",
              "      <td>0.217633</td>\n",
              "      <td>0.220435</td>\n",
              "      <td>0.220334</td>\n",
              "      <td>0.052228</td>\n",
              "      <td>0.213573</td>\n",
              "      <td>0.072551</td>\n",
              "      <td>0.068089</td>\n",
              "      <td>0.036369</td>\n",
              "      <td>0.019040</td>\n",
              "      <td>0.028305</td>\n",
              "      <td>0.017356</td>\n",
              "      <td>0.031192</td>\n",
              "      <td>0.027952</td>\n",
              "      <td>0.053817</td>\n",
              "      <td>0.010964</td>\n",
              "      <td>0.064074</td>\n",
              "      <td>0.011438</td>\n",
              "      <td>0.185105</td>\n",
              "      <td>0.221461</td>\n",
              "      <td>0.023568</td>\n",
              "    </tr>\n",
              "    <tr>\n",
              "      <th>min</th>\n",
              "      <td>0.000000</td>\n",
              "      <td>0.000000</td>\n",
              "      <td>0.000000</td>\n",
              "      <td>0.000000</td>\n",
              "      <td>0.000000</td>\n",
              "      <td>0.000000</td>\n",
              "      <td>0.000000</td>\n",
              "      <td>0.000000</td>\n",
              "      <td>0.000000</td>\n",
              "      <td>0.000000</td>\n",
              "      <td>0.000000</td>\n",
              "      <td>0.000000</td>\n",
              "      <td>0.000000</td>\n",
              "      <td>0.000000</td>\n",
              "      <td>0.000000</td>\n",
              "      <td>0.000000</td>\n",
              "      <td>0.000000</td>\n",
              "      <td>0.000000</td>\n",
              "      <td>0.000000</td>\n",
              "      <td>0.000000</td>\n",
              "      <td>0.000000</td>\n",
              "      <td>0.000000</td>\n",
              "      <td>0.000000</td>\n",
              "      <td>0.000000</td>\n",
              "      <td>0.000000</td>\n",
              "    </tr>\n",
              "    <tr>\n",
              "      <th>25%</th>\n",
              "      <td>0.027330</td>\n",
              "      <td>0.443436</td>\n",
              "      <td>0.039263</td>\n",
              "      <td>0.037655</td>\n",
              "      <td>0.000000</td>\n",
              "      <td>0.197002</td>\n",
              "      <td>0.189873</td>\n",
              "      <td>0.189873</td>\n",
              "      <td>0.073293</td>\n",
              "      <td>0.442116</td>\n",
              "      <td>0.069767</td>\n",
              "      <td>0.063830</td>\n",
              "      <td>0.020510</td>\n",
              "      <td>0.007237</td>\n",
              "      <td>0.346140</td>\n",
              "      <td>0.012423</td>\n",
              "      <td>0.027913</td>\n",
              "      <td>0.071830</td>\n",
              "      <td>0.076895</td>\n",
              "      <td>0.011772</td>\n",
              "      <td>0.059450</td>\n",
              "      <td>0.000000</td>\n",
              "      <td>0.172897</td>\n",
              "      <td>0.125000</td>\n",
              "      <td>0.000000</td>\n",
              "    </tr>\n",
              "    <tr>\n",
              "      <th>50%</th>\n",
              "      <td>0.056026</td>\n",
              "      <td>0.473378</td>\n",
              "      <td>0.045161</td>\n",
              "      <td>0.058725</td>\n",
              "      <td>0.000000</td>\n",
              "      <td>0.300000</td>\n",
              "      <td>0.291139</td>\n",
              "      <td>0.291139</td>\n",
              "      <td>0.118468</td>\n",
              "      <td>0.633130</td>\n",
              "      <td>0.116279</td>\n",
              "      <td>0.106383</td>\n",
              "      <td>0.034983</td>\n",
              "      <td>0.014021</td>\n",
              "      <td>0.358961</td>\n",
              "      <td>0.019698</td>\n",
              "      <td>0.037822</td>\n",
              "      <td>0.078155</td>\n",
              "      <td>0.106673</td>\n",
              "      <td>0.017578</td>\n",
              "      <td>0.100343</td>\n",
              "      <td>0.000000</td>\n",
              "      <td>0.289330</td>\n",
              "      <td>0.250000</td>\n",
              "      <td>0.000000</td>\n",
              "    </tr>\n",
              "    <tr>\n",
              "      <th>75%</th>\n",
              "      <td>0.108227</td>\n",
              "      <td>0.504275</td>\n",
              "      <td>0.054308</td>\n",
              "      <td>0.079346</td>\n",
              "      <td>0.125000</td>\n",
              "      <td>0.500000</td>\n",
              "      <td>0.493671</td>\n",
              "      <td>0.493671</td>\n",
              "      <td>0.158020</td>\n",
              "      <td>0.810517</td>\n",
              "      <td>0.162791</td>\n",
              "      <td>0.148936</td>\n",
              "      <td>0.061537</td>\n",
              "      <td>0.024876</td>\n",
              "      <td>0.384603</td>\n",
              "      <td>0.031506</td>\n",
              "      <td>0.057192</td>\n",
              "      <td>0.091930</td>\n",
              "      <td>0.136451</td>\n",
              "      <td>0.024044</td>\n",
              "      <td>0.141237</td>\n",
              "      <td>0.000000</td>\n",
              "      <td>0.415888</td>\n",
              "      <td>0.427500</td>\n",
              "      <td>0.000000</td>\n",
              "    </tr>\n",
              "    <tr>\n",
              "      <th>max</th>\n",
              "      <td>1.000000</td>\n",
              "      <td>1.000000</td>\n",
              "      <td>1.000000</td>\n",
              "      <td>1.000000</td>\n",
              "      <td>1.000000</td>\n",
              "      <td>1.000000</td>\n",
              "      <td>1.000000</td>\n",
              "      <td>1.000000</td>\n",
              "      <td>1.000000</td>\n",
              "      <td>1.000000</td>\n",
              "      <td>1.000000</td>\n",
              "      <td>1.000000</td>\n",
              "      <td>1.000000</td>\n",
              "      <td>1.000000</td>\n",
              "      <td>1.000000</td>\n",
              "      <td>1.000000</td>\n",
              "      <td>1.000000</td>\n",
              "      <td>1.000000</td>\n",
              "      <td>1.000000</td>\n",
              "      <td>1.000000</td>\n",
              "      <td>1.000000</td>\n",
              "      <td>1.000000</td>\n",
              "      <td>1.000000</td>\n",
              "      <td>1.000000</td>\n",
              "      <td>1.000000</td>\n",
              "    </tr>\n",
              "  </tbody>\n",
              "</table>\n",
              "</div>"
            ],
            "text/plain": [
              "       total_rec_int  mths_since_recent_inq  ...  total_rec_prncp     recoveries\n",
              "count  293318.000000          293318.000000  ...    293318.000000  293318.000000\n",
              "mean        0.085588               0.481238  ...         0.303943       0.005890\n",
              "std         0.092972               0.042216  ...         0.221461       0.023568\n",
              "min         0.000000               0.000000  ...         0.000000       0.000000\n",
              "25%         0.027330               0.443436  ...         0.125000       0.000000\n",
              "50%         0.056026               0.473378  ...         0.250000       0.000000\n",
              "75%         0.108227               0.504275  ...         0.427500       0.000000\n",
              "max         1.000000               1.000000  ...         1.000000       1.000000\n",
              "\n",
              "[8 rows x 25 columns]"
            ]
          },
          "metadata": {
            "tags": []
          },
          "execution_count": 102
        }
      ]
    },
    {
      "cell_type": "markdown",
      "metadata": {
        "colab_type": "text",
        "id": "9ybzawEvsUGX"
      },
      "source": [
        "### Logistic Regression "
      ]
    },
    {
      "cell_type": "code",
      "metadata": {
        "colab_type": "code",
        "id": "BIV0kTF0sUGh",
        "colab": {}
      },
      "source": [
        "logreg_model_2 = LogisticRegression()\n",
        "logreg_model_2.fit(X_train_mm,y_train)\n",
        "#y_pred_train = logreg_model_2.predict(X_train_mm)\n",
        "y_pred_test = logreg_model_2.predict(X_test_mm)"
      ],
      "execution_count": 0,
      "outputs": []
    },
    {
      "cell_type": "code",
      "metadata": {
        "colab_type": "code",
        "outputId": "46edd277-6329-4e1e-fb31-f4307a3720b0",
        "id": "MX4NCR6fsUGw",
        "colab": {
          "base_uri": "https://localhost:8080/",
          "height": 35
        }
      },
      "source": [
        "metrics.accuracy_score(y_test, y_pred_test)"
      ],
      "execution_count": 106,
      "outputs": [
        {
          "output_type": "execute_result",
          "data": {
            "text/plain": [
              "0.9905597659885653"
            ]
          },
          "metadata": {
            "tags": []
          },
          "execution_count": 106
        }
      ]
    },
    {
      "cell_type": "code",
      "metadata": {
        "colab_type": "code",
        "outputId": "446a4792-80e4-400c-dd00-d8dc43e0913c",
        "id": "lv7L6o4fsUHF",
        "colab": {
          "base_uri": "https://localhost:8080/",
          "height": 54
        }
      },
      "source": [
        "metrics.confusion_matrix(y_test, y_pred_test)"
      ],
      "execution_count": 107,
      "outputs": [
        {
          "output_type": "execute_result",
          "data": {
            "text/plain": [
              "array([[78129,    12],\n",
              "       [  911, 18721]])"
            ]
          },
          "metadata": {
            "tags": []
          },
          "execution_count": 107
        }
      ]
    },
    {
      "cell_type": "code",
      "metadata": {
        "colab_type": "code",
        "outputId": "c6147e06-28de-406b-d4be-7e27df50a935",
        "id": "OaL90KIHsUHQ",
        "colab": {
          "base_uri": "https://localhost:8080/",
          "height": 181
        }
      },
      "source": [
        "print(metrics.classification_report(y_test, y_pred_test))"
      ],
      "execution_count": 108,
      "outputs": [
        {
          "output_type": "stream",
          "text": [
            "              precision    recall  f1-score   support\n",
            "\n",
            "           0       0.99      1.00      0.99     78141\n",
            "           1       1.00      0.95      0.98     19632\n",
            "\n",
            "    accuracy                           0.99     97773\n",
            "   macro avg       0.99      0.98      0.99     97773\n",
            "weighted avg       0.99      0.99      0.99     97773\n",
            "\n"
          ],
          "name": "stdout"
        }
      ]
    },
    {
      "cell_type": "code",
      "metadata": {
        "colab_type": "code",
        "id": "vFUQL001sUHc",
        "colab": {}
      },
      "source": [
        "y_pred_prob = logreg_model_2.predict_proba(X_test_mm)[:,1]"
      ],
      "execution_count": 0,
      "outputs": []
    },
    {
      "cell_type": "code",
      "metadata": {
        "colab_type": "code",
        "outputId": "19f794e0-4ecd-468a-f4a2-09eed0e017b0",
        "id": "MT1BONaSsUHn",
        "colab": {
          "base_uri": "https://localhost:8080/",
          "height": 35
        }
      },
      "source": [
        "metrics.roc_auc_score(y_test, y_pred_prob)"
      ],
      "execution_count": 110,
      "outputs": [
        {
          "output_type": "execute_result",
          "data": {
            "text/plain": [
              "0.9985441788367709"
            ]
          },
          "metadata": {
            "tags": []
          },
          "execution_count": 110
        }
      ]
    },
    {
      "cell_type": "markdown",
      "metadata": {
        "colab_type": "text",
        "id": "kAWLcKaBuN7x"
      },
      "source": [
        "### Support Vector Machine Classifier"
      ]
    },
    {
      "cell_type": "code",
      "metadata": {
        "colab_type": "code",
        "id": "hvGCOzYFuN72",
        "colab": {}
      },
      "source": [
        "#svm_model_2 = SVC(kernel='linear')\n",
        "#svm_model_2.fit(X_train_mm,y_train)\n",
        "#y_pred_train = svm_model_2.predict(X_train_mm)\n",
        "#y_pred_test = svm_model_2.predict(X_test_mm)"
      ],
      "execution_count": 0,
      "outputs": []
    },
    {
      "cell_type": "code",
      "metadata": {
        "colab_type": "code",
        "id": "LJL0rGLNuN8F",
        "colab": {}
      },
      "source": [
        "#metrics.accuracy_score(y_test, y_pred_test)"
      ],
      "execution_count": 0,
      "outputs": []
    },
    {
      "cell_type": "code",
      "metadata": {
        "colab_type": "code",
        "id": "BkrqjBwGuN8S",
        "colab": {}
      },
      "source": [
        "#metrics.confusion_matrix(y_test, y_pred_test)"
      ],
      "execution_count": 0,
      "outputs": []
    },
    {
      "cell_type": "code",
      "metadata": {
        "colab_type": "code",
        "id": "twYOr-mLuN88",
        "colab": {}
      },
      "source": [
        "#print(metrics.classification_report(y_test, y_pred_test))"
      ],
      "execution_count": 0,
      "outputs": []
    },
    {
      "cell_type": "markdown",
      "metadata": {
        "colab_type": "text",
        "id": "r8xFNqL_v8i0"
      },
      "source": [
        "### RandomForestClassifier"
      ]
    },
    {
      "cell_type": "code",
      "metadata": {
        "colab_type": "code",
        "id": "Nwvx2Oftv8i-",
        "colab": {}
      },
      "source": [
        "rf_model_2 = RandomForestClassifier()\n",
        "rf_model_2.fit(X_train_mm,y_train)\n",
        "#y_pred_train = rf_model_2.predict(X_train_mm)\n",
        "y_pred_test = rf_model_2.predict(X_test_mm)"
      ],
      "execution_count": 0,
      "outputs": []
    },
    {
      "cell_type": "code",
      "metadata": {
        "colab_type": "code",
        "outputId": "7df06c6f-1999-486e-8196-2994e235f7de",
        "id": "ZC7p6f1Lv8jN",
        "colab": {
          "base_uri": "https://localhost:8080/",
          "height": 35
        }
      },
      "source": [
        "metrics.accuracy_score(y_test, y_pred_test)"
      ],
      "execution_count": 112,
      "outputs": [
        {
          "output_type": "execute_result",
          "data": {
            "text/plain": [
              "0.9965532406697145"
            ]
          },
          "metadata": {
            "tags": []
          },
          "execution_count": 112
        }
      ]
    },
    {
      "cell_type": "code",
      "metadata": {
        "colab_type": "code",
        "outputId": "40b470e5-962a-4386-e587-07c780a7ba54",
        "id": "r_JfTKlTv8jh",
        "colab": {
          "base_uri": "https://localhost:8080/",
          "height": 54
        }
      },
      "source": [
        "metrics.confusion_matrix(y_test, y_pred_test)"
      ],
      "execution_count": 113,
      "outputs": [
        {
          "output_type": "execute_result",
          "data": {
            "text/plain": [
              "array([[78139,     2],\n",
              "       [  335, 19297]])"
            ]
          },
          "metadata": {
            "tags": []
          },
          "execution_count": 113
        }
      ]
    },
    {
      "cell_type": "code",
      "metadata": {
        "colab_type": "code",
        "outputId": "c4775091-a9a9-4c04-edc3-f1f1b68f9eda",
        "id": "nc87yp0Hv8ju",
        "colab": {
          "base_uri": "https://localhost:8080/",
          "height": 181
        }
      },
      "source": [
        "print(metrics.classification_report(y_test, y_pred_test))"
      ],
      "execution_count": 114,
      "outputs": [
        {
          "output_type": "stream",
          "text": [
            "              precision    recall  f1-score   support\n",
            "\n",
            "           0       1.00      1.00      1.00     78141\n",
            "           1       1.00      0.98      0.99     19632\n",
            "\n",
            "    accuracy                           1.00     97773\n",
            "   macro avg       1.00      0.99      0.99     97773\n",
            "weighted avg       1.00      1.00      1.00     97773\n",
            "\n"
          ],
          "name": "stdout"
        }
      ]
    },
    {
      "cell_type": "code",
      "metadata": {
        "colab_type": "code",
        "outputId": "f01a2a2c-1ca0-465c-9707-7c2f55c1caf9",
        "id": "fWwUr8Psv8kB",
        "colab": {
          "base_uri": "https://localhost:8080/",
          "height": 35
        }
      },
      "source": [
        "y_pred_prob = rf_model_2.predict_proba(X_test_mm)[:,1]\n",
        "metrics.roc_auc_score(y_test, y_pred_prob)"
      ],
      "execution_count": 129,
      "outputs": [
        {
          "output_type": "execute_result",
          "data": {
            "text/plain": [
              "0.9998098524711465"
            ]
          },
          "metadata": {
            "tags": []
          },
          "execution_count": 129
        }
      ]
    },
    {
      "cell_type": "markdown",
      "metadata": {
        "id": "XNZLb2cGx4uK",
        "colab_type": "text"
      },
      "source": [
        "### StandardScaler"
      ]
    },
    {
      "cell_type": "code",
      "metadata": {
        "id": "JfrvtY7CxwgY",
        "colab_type": "code",
        "colab": {}
      },
      "source": [
        "sc = StandardScaler()\n",
        "\n",
        "X_train_sc = sc.fit_transform(X_train)\n",
        "X_train_sc = pd.DataFrame(X_train_sc, columns=feature_names)\n",
        "X_test_sc = sc.transform(X_test)\n",
        "X_test_sc = pd.DataFrame(X_test_sc, columns=feature_names)"
      ],
      "execution_count": 0,
      "outputs": []
    },
    {
      "cell_type": "code",
      "metadata": {
        "id": "g0hbvOgiyyk4",
        "colab_type": "code",
        "colab": {
          "base_uri": "https://localhost:8080/",
          "height": 395
        },
        "outputId": "e01d8f2d-b880-4897-d468-39648ef7223f"
      },
      "source": [
        "X_train_sc.describe()"
      ],
      "execution_count": 117,
      "outputs": [
        {
          "output_type": "execute_result",
          "data": {
            "text/html": [
              "<div>\n",
              "<style scoped>\n",
              "    .dataframe tbody tr th:only-of-type {\n",
              "        vertical-align: middle;\n",
              "    }\n",
              "\n",
              "    .dataframe tbody tr th {\n",
              "        vertical-align: top;\n",
              "    }\n",
              "\n",
              "    .dataframe thead th {\n",
              "        text-align: right;\n",
              "    }\n",
              "</style>\n",
              "<table border=\"1\" class=\"dataframe\">\n",
              "  <thead>\n",
              "    <tr style=\"text-align: right;\">\n",
              "      <th></th>\n",
              "      <th>total_rec_int</th>\n",
              "      <th>mths_since_recent_inq</th>\n",
              "      <th>total_rev_hi_lim</th>\n",
              "      <th>revol_util</th>\n",
              "      <th>inq_last_6mths</th>\n",
              "      <th>funded_amnt_inv</th>\n",
              "      <th>loan_amnt</th>\n",
              "      <th>funded_amnt</th>\n",
              "      <th>bc_util</th>\n",
              "      <th>percent_bc_gt_75</th>\n",
              "      <th>num_rev_tl_bal_gt_0</th>\n",
              "      <th>num_actv_rev_tl</th>\n",
              "      <th>tot_cur_bal</th>\n",
              "      <th>total_bc_limit</th>\n",
              "      <th>mort_acc</th>\n",
              "      <th>tot_hi_cred_lim</th>\n",
              "      <th>avg_cur_bal</th>\n",
              "      <th>bc_open_to_buy</th>\n",
              "      <th>num_tl_op_past_12m</th>\n",
              "      <th>dti</th>\n",
              "      <th>acc_open_past_24mths</th>\n",
              "      <th>total_rec_late_fee</th>\n",
              "      <th>int_rate</th>\n",
              "      <th>total_rec_prncp</th>\n",
              "      <th>recoveries</th>\n",
              "    </tr>\n",
              "  </thead>\n",
              "  <tbody>\n",
              "    <tr>\n",
              "      <th>count</th>\n",
              "      <td>2.933180e+05</td>\n",
              "      <td>2.933180e+05</td>\n",
              "      <td>2.933180e+05</td>\n",
              "      <td>2.933180e+05</td>\n",
              "      <td>2.933180e+05</td>\n",
              "      <td>2.933180e+05</td>\n",
              "      <td>2.933180e+05</td>\n",
              "      <td>2.933180e+05</td>\n",
              "      <td>2.933180e+05</td>\n",
              "      <td>2.933180e+05</td>\n",
              "      <td>2.933180e+05</td>\n",
              "      <td>2.933180e+05</td>\n",
              "      <td>2.933180e+05</td>\n",
              "      <td>2.933180e+05</td>\n",
              "      <td>2.933180e+05</td>\n",
              "      <td>2.933180e+05</td>\n",
              "      <td>2.933180e+05</td>\n",
              "      <td>2.933180e+05</td>\n",
              "      <td>2.933180e+05</td>\n",
              "      <td>2.933180e+05</td>\n",
              "      <td>2.933180e+05</td>\n",
              "      <td>2.933180e+05</td>\n",
              "      <td>2.933180e+05</td>\n",
              "      <td>2.933180e+05</td>\n",
              "      <td>2.933180e+05</td>\n",
              "    </tr>\n",
              "    <tr>\n",
              "      <th>mean</th>\n",
              "      <td>-3.701210e-17</td>\n",
              "      <td>-2.577164e-16</td>\n",
              "      <td>-4.452126e-17</td>\n",
              "      <td>5.141202e-16</td>\n",
              "      <td>3.053184e-15</td>\n",
              "      <td>-6.609218e-16</td>\n",
              "      <td>-4.410744e-16</td>\n",
              "      <td>-2.869472e-16</td>\n",
              "      <td>5.409653e-16</td>\n",
              "      <td>-3.141465e-17</td>\n",
              "      <td>5.160286e-16</td>\n",
              "      <td>-1.347165e-15</td>\n",
              "      <td>1.647621e-16</td>\n",
              "      <td>-1.174955e-17</td>\n",
              "      <td>3.293239e-16</td>\n",
              "      <td>8.901754e-17</td>\n",
              "      <td>-1.104763e-16</td>\n",
              "      <td>2.355058e-18</td>\n",
              "      <td>-3.016639e-15</td>\n",
              "      <td>5.376185e-16</td>\n",
              "      <td>-7.413602e-16</td>\n",
              "      <td>8.136936e-15</td>\n",
              "      <td>7.061707e-16</td>\n",
              "      <td>1.407266e-15</td>\n",
              "      <td>-3.813436e-15</td>\n",
              "    </tr>\n",
              "    <tr>\n",
              "      <th>std</th>\n",
              "      <td>1.000002e+00</td>\n",
              "      <td>1.000002e+00</td>\n",
              "      <td>1.000002e+00</td>\n",
              "      <td>1.000002e+00</td>\n",
              "      <td>1.000002e+00</td>\n",
              "      <td>1.000002e+00</td>\n",
              "      <td>1.000002e+00</td>\n",
              "      <td>1.000002e+00</td>\n",
              "      <td>1.000002e+00</td>\n",
              "      <td>1.000002e+00</td>\n",
              "      <td>1.000002e+00</td>\n",
              "      <td>1.000002e+00</td>\n",
              "      <td>1.000002e+00</td>\n",
              "      <td>1.000002e+00</td>\n",
              "      <td>1.000002e+00</td>\n",
              "      <td>1.000002e+00</td>\n",
              "      <td>1.000002e+00</td>\n",
              "      <td>1.000002e+00</td>\n",
              "      <td>1.000002e+00</td>\n",
              "      <td>1.000002e+00</td>\n",
              "      <td>1.000002e+00</td>\n",
              "      <td>1.000002e+00</td>\n",
              "      <td>1.000002e+00</td>\n",
              "      <td>1.000002e+00</td>\n",
              "      <td>1.000002e+00</td>\n",
              "    </tr>\n",
              "    <tr>\n",
              "      <th>min</th>\n",
              "      <td>-9.205741e-01</td>\n",
              "      <td>-1.139936e+01</td>\n",
              "      <td>-2.645582e+00</td>\n",
              "      <td>-2.115997e+00</td>\n",
              "      <td>-6.993685e-01</td>\n",
              "      <td>-1.651352e+00</td>\n",
              "      <td>-1.597143e+00</td>\n",
              "      <td>-1.596876e+00</td>\n",
              "      <td>-2.157188e+00</td>\n",
              "      <td>-2.954326e+00</td>\n",
              "      <td>-1.788598e+00</td>\n",
              "      <td>-1.759042e+00</td>\n",
              "      <td>-1.281529e+00</td>\n",
              "      <td>-1.020105e+00</td>\n",
              "      <td>-1.298143e+01</td>\n",
              "      <td>-1.415457e+00</td>\n",
              "      <td>-1.544969e+00</td>\n",
              "      <td>-3.141638e+00</td>\n",
              "      <td>-2.075570e+00</td>\n",
              "      <td>-1.663847e+00</td>\n",
              "      <td>-1.780003e+00</td>\n",
              "      <td>-1.463648e-01</td>\n",
              "      <td>-1.672911e+00</td>\n",
              "      <td>-1.372447e+00</td>\n",
              "      <td>-2.499192e-01</td>\n",
              "    </tr>\n",
              "    <tr>\n",
              "      <th>25%</th>\n",
              "      <td>-6.266142e-01</td>\n",
              "      <td>-8.954464e-01</td>\n",
              "      <td>-5.636104e-01</td>\n",
              "      <td>-7.473969e-01</td>\n",
              "      <td>-6.993685e-01</td>\n",
              "      <td>-7.461467e-01</td>\n",
              "      <td>-7.357845e-01</td>\n",
              "      <td>-7.351210e-01</td>\n",
              "      <td>-7.538727e-01</td>\n",
              "      <td>-8.842289e-01</td>\n",
              "      <td>-8.269657e-01</td>\n",
              "      <td>-8.215891e-01</td>\n",
              "      <td>-7.175842e-01</td>\n",
              "      <td>-6.400250e-01</td>\n",
              "      <td>-7.526073e-01</td>\n",
              "      <td>-6.996924e-01</td>\n",
              "      <td>-6.500863e-01</td>\n",
              "      <td>-5.718446e-01</td>\n",
              "      <td>-6.467363e-01</td>\n",
              "      <td>-5.901940e-01</td>\n",
              "      <td>-8.521781e-01</td>\n",
              "      <td>-1.463648e-01</td>\n",
              "      <td>-7.388587e-01</td>\n",
              "      <td>-8.080128e-01</td>\n",
              "      <td>-2.499192e-01</td>\n",
              "    </tr>\n",
              "    <tr>\n",
              "      <th>50%</th>\n",
              "      <td>-3.179639e-01</td>\n",
              "      <td>-1.861991e-01</td>\n",
              "      <td>-2.509034e-01</td>\n",
              "      <td>1.836739e-02</td>\n",
              "      <td>-6.993685e-01</td>\n",
              "      <td>-2.728832e-01</td>\n",
              "      <td>-2.763934e-01</td>\n",
              "      <td>-2.755184e-01</td>\n",
              "      <td>1.110864e-01</td>\n",
              "      <td>1.014748e-02</td>\n",
              "      <td>-1.858777e-01</td>\n",
              "      <td>-1.966202e-01</td>\n",
              "      <td>-3.196418e-01</td>\n",
              "      <td>-2.837005e-01</td>\n",
              "      <td>-2.996613e-01</td>\n",
              "      <td>-2.804895e-01</td>\n",
              "      <td>-3.324074e-01</td>\n",
              "      <td>-3.455571e-01</td>\n",
              "      <td>-9.342394e-02</td>\n",
              "      <td>-6.067139e-02</td>\n",
              "      <td>-2.139577e-01</td>\n",
              "      <td>-1.463648e-01</td>\n",
              "      <td>-1.098456e-01</td>\n",
              "      <td>-2.435781e-01</td>\n",
              "      <td>-2.499192e-01</td>\n",
              "    </tr>\n",
              "    <tr>\n",
              "      <th>75%</th>\n",
              "      <td>2.435037e-01</td>\n",
              "      <td>5.456857e-01</td>\n",
              "      <td>2.341394e-01</td>\n",
              "      <td>7.678388e-01</td>\n",
              "      <td>3.629250e-01</td>\n",
              "      <td>6.460963e-01</td>\n",
              "      <td>6.423890e-01</td>\n",
              "      <td>6.436869e-01</td>\n",
              "      <td>8.683741e-01</td>\n",
              "      <td>8.407193e-01</td>\n",
              "      <td>4.552104e-01</td>\n",
              "      <td>4.283487e-01</td>\n",
              "      <td>4.104849e-01</td>\n",
              "      <td>2.864188e-01</td>\n",
              "      <td>6.062305e-01</td>\n",
              "      <td>3.998747e-01</td>\n",
              "      <td>2.885735e-01</td>\n",
              "      <td>1.472544e-01</td>\n",
              "      <td>4.598884e-01</td>\n",
              "      <td>5.291072e-01</td>\n",
              "      <td>4.242627e-01</td>\n",
              "      <td>-1.463648e-01</td>\n",
              "      <td>5.738642e-01</td>\n",
              "      <td>5.579190e-01</td>\n",
              "      <td>-2.499192e-01</td>\n",
              "    </tr>\n",
              "    <tr>\n",
              "      <th>max</th>\n",
              "      <td>9.835355e+00</td>\n",
              "      <td>1.228821e+01</td>\n",
              "      <td>5.038022e+01</td>\n",
              "      <td>3.422930e+01</td>\n",
              "      <td>7.798979e+00</td>\n",
              "      <td>2.943545e+00</td>\n",
              "      <td>2.939345e+00</td>\n",
              "      <td>2.941700e+00</td>\n",
              "      <td>1.698952e+01</td>\n",
              "      <td>1.727924e+00</td>\n",
              "      <td>1.199480e+01</td>\n",
              "      <td>1.292773e+01</td>\n",
              "      <td>2.621430e+01</td>\n",
              "      <td>5.150214e+01</td>\n",
              "      <td>2.234763e+01</td>\n",
              "      <td>5.620245e+01</td>\n",
              "      <td>3.051461e+01</td>\n",
              "      <td>3.263452e+01</td>\n",
              "      <td>1.650595e+01</td>\n",
              "      <td>8.954185e+01</td>\n",
              "      <td>1.382689e+01</td>\n",
              "      <td>8.727897e+01</td>\n",
              "      <td>3.729448e+00</td>\n",
              "      <td>3.143030e+00</td>\n",
              "      <td>4.218017e+01</td>\n",
              "    </tr>\n",
              "  </tbody>\n",
              "</table>\n",
              "</div>"
            ],
            "text/plain": [
              "       total_rec_int  mths_since_recent_inq  ...  total_rec_prncp    recoveries\n",
              "count   2.933180e+05           2.933180e+05  ...     2.933180e+05  2.933180e+05\n",
              "mean   -3.701210e-17          -2.577164e-16  ...     1.407266e-15 -3.813436e-15\n",
              "std     1.000002e+00           1.000002e+00  ...     1.000002e+00  1.000002e+00\n",
              "min    -9.205741e-01          -1.139936e+01  ...    -1.372447e+00 -2.499192e-01\n",
              "25%    -6.266142e-01          -8.954464e-01  ...    -8.080128e-01 -2.499192e-01\n",
              "50%    -3.179639e-01          -1.861991e-01  ...    -2.435781e-01 -2.499192e-01\n",
              "75%     2.435037e-01           5.456857e-01  ...     5.579190e-01 -2.499192e-01\n",
              "max     9.835355e+00           1.228821e+01  ...     3.143030e+00  4.218017e+01\n",
              "\n",
              "[8 rows x 25 columns]"
            ]
          },
          "metadata": {
            "tags": []
          },
          "execution_count": 117
        }
      ]
    },
    {
      "cell_type": "markdown",
      "metadata": {
        "colab_type": "text",
        "id": "-itbjivVy_vd"
      },
      "source": [
        "### Logistic Regression "
      ]
    },
    {
      "cell_type": "code",
      "metadata": {
        "colab_type": "code",
        "id": "_rt2ZHdAy_vp",
        "colab": {}
      },
      "source": [
        "logreg_model_3 = LogisticRegression()\n",
        "logreg_model_3.fit(X_train_sc,y_train)\n",
        "#y_pred_train = logreg_model_3.predict(X_train_sc)\n",
        "y_pred_test = logreg_model_3.predict(X_test_sc)"
      ],
      "execution_count": 0,
      "outputs": []
    },
    {
      "cell_type": "code",
      "metadata": {
        "colab_type": "code",
        "outputId": "5f964127-35ad-4599-d420-20dbd09f047a",
        "id": "_PAGJxVay_v4",
        "colab": {
          "base_uri": "https://localhost:8080/",
          "height": 35
        }
      },
      "source": [
        "metrics.accuracy_score(y_test, y_pred_test)"
      ],
      "execution_count": 119,
      "outputs": [
        {
          "output_type": "execute_result",
          "data": {
            "text/plain": [
              "0.9969828071144385"
            ]
          },
          "metadata": {
            "tags": []
          },
          "execution_count": 119
        }
      ]
    },
    {
      "cell_type": "code",
      "metadata": {
        "colab_type": "code",
        "outputId": "17dacb90-919c-4813-f9e0-65327d70f3a3",
        "id": "MK-R6Ugsy_wE",
        "colab": {
          "base_uri": "https://localhost:8080/",
          "height": 54
        }
      },
      "source": [
        "metrics.confusion_matrix(y_test, y_pred_test)"
      ],
      "execution_count": 120,
      "outputs": [
        {
          "output_type": "execute_result",
          "data": {
            "text/plain": [
              "array([[78135,     6],\n",
              "       [  289, 19343]])"
            ]
          },
          "metadata": {
            "tags": []
          },
          "execution_count": 120
        }
      ]
    },
    {
      "cell_type": "code",
      "metadata": {
        "colab_type": "code",
        "outputId": "a1be50d2-90bd-4a24-f52c-d8ca557e5a7c",
        "id": "-FERpZt0y_wS",
        "colab": {
          "base_uri": "https://localhost:8080/",
          "height": 181
        }
      },
      "source": [
        "print(metrics.classification_report(y_test, y_pred_test))"
      ],
      "execution_count": 121,
      "outputs": [
        {
          "output_type": "stream",
          "text": [
            "              precision    recall  f1-score   support\n",
            "\n",
            "           0       1.00      1.00      1.00     78141\n",
            "           1       1.00      0.99      0.99     19632\n",
            "\n",
            "    accuracy                           1.00     97773\n",
            "   macro avg       1.00      0.99      1.00     97773\n",
            "weighted avg       1.00      1.00      1.00     97773\n",
            "\n"
          ],
          "name": "stdout"
        }
      ]
    },
    {
      "cell_type": "code",
      "metadata": {
        "colab_type": "code",
        "id": "d4dDQd2ry_wc",
        "colab": {}
      },
      "source": [
        "y_pred_prob = logreg_model_3.predict_proba(X_test_sc)[:,1]"
      ],
      "execution_count": 0,
      "outputs": []
    },
    {
      "cell_type": "code",
      "metadata": {
        "colab_type": "code",
        "outputId": "e5b904e3-0fa7-47ae-96cd-66a533659c17",
        "id": "kCRQmoiUy_wv",
        "colab": {
          "base_uri": "https://localhost:8080/",
          "height": 35
        }
      },
      "source": [
        "metrics.roc_auc_score(y_test, y_pred_prob)"
      ],
      "execution_count": 123,
      "outputs": [
        {
          "output_type": "execute_result",
          "data": {
            "text/plain": [
              "0.9995688739506866"
            ]
          },
          "metadata": {
            "tags": []
          },
          "execution_count": 123
        }
      ]
    },
    {
      "cell_type": "markdown",
      "metadata": {
        "colab_type": "text",
        "id": "MbpNzmU-zjVH"
      },
      "source": [
        "### Support Vector Machine Classifier"
      ]
    },
    {
      "cell_type": "code",
      "metadata": {
        "colab_type": "code",
        "id": "T0YnIxUSzjVP",
        "colab": {}
      },
      "source": [
        "#svm_model_3 = SVC(kernel='linear')\n",
        "#svm_model_3.fit(X_train_mm,y_train)\n",
        "#y_pred_train = svm_model_3.predict(X_train_sc)\n",
        "#y_pred_test = svm_model_3.predict(X_test_sc)"
      ],
      "execution_count": 0,
      "outputs": []
    },
    {
      "cell_type": "code",
      "metadata": {
        "colab_type": "code",
        "id": "uwFTDRC1zjVe",
        "colab": {}
      },
      "source": [
        "#metrics.accuracy_score(y_test, y_pred_test)"
      ],
      "execution_count": 0,
      "outputs": []
    },
    {
      "cell_type": "code",
      "metadata": {
        "colab_type": "code",
        "id": "XpPHTAuDzjVo",
        "colab": {}
      },
      "source": [
        "#metrics.confusion_matrix(y_test, y_pred_test)"
      ],
      "execution_count": 0,
      "outputs": []
    },
    {
      "cell_type": "code",
      "metadata": {
        "colab_type": "code",
        "id": "4XUPtmBvzjV4",
        "colab": {}
      },
      "source": [
        "#print(metrics.classification_report(y_test, y_pred_test))"
      ],
      "execution_count": 0,
      "outputs": []
    },
    {
      "cell_type": "markdown",
      "metadata": {
        "colab_type": "text",
        "id": "FvCTIeZNzvL8"
      },
      "source": [
        "### RandomForestClassifier"
      ]
    },
    {
      "cell_type": "code",
      "metadata": {
        "colab_type": "code",
        "id": "RDtofIrRzvL_",
        "colab": {}
      },
      "source": [
        "rf_model_3 = RandomForestClassifier()\n",
        "rf_model_3.fit(X_train_sc,y_train)\n",
        "#y_pred_train = rf_model_3.predict(X_train_sc)\n",
        "y_pred_test = rf_model_3.predict(X_test_sc)"
      ],
      "execution_count": 0,
      "outputs": []
    },
    {
      "cell_type": "code",
      "metadata": {
        "colab_type": "code",
        "outputId": "b67df572-93c5-42c0-d002-fae6d19dd997",
        "id": "l8FhHdqHzvMM",
        "colab": {
          "base_uri": "https://localhost:8080/",
          "height": 35
        }
      },
      "source": [
        "metrics.accuracy_score(y_test, y_pred_test)"
      ],
      "execution_count": 125,
      "outputs": [
        {
          "output_type": "execute_result",
          "data": {
            "text/plain": [
              "0.9966862017121291"
            ]
          },
          "metadata": {
            "tags": []
          },
          "execution_count": 125
        }
      ]
    },
    {
      "cell_type": "code",
      "metadata": {
        "colab_type": "code",
        "outputId": "f7a01c95-7cdf-4e17-9fd2-b0c4de9585ca",
        "id": "wMBv_grEzvMa",
        "colab": {
          "base_uri": "https://localhost:8080/",
          "height": 54
        }
      },
      "source": [
        "metrics.confusion_matrix(y_test, y_pred_test)"
      ],
      "execution_count": 126,
      "outputs": [
        {
          "output_type": "execute_result",
          "data": {
            "text/plain": [
              "array([[78140,     1],\n",
              "       [  323, 19309]])"
            ]
          },
          "metadata": {
            "tags": []
          },
          "execution_count": 126
        }
      ]
    },
    {
      "cell_type": "code",
      "metadata": {
        "colab_type": "code",
        "outputId": "3a80fe89-fccb-4544-8eae-727826107809",
        "id": "LNaP54gNzvMl",
        "colab": {
          "base_uri": "https://localhost:8080/",
          "height": 181
        }
      },
      "source": [
        "print(metrics.classification_report(y_test, y_pred_test))"
      ],
      "execution_count": 127,
      "outputs": [
        {
          "output_type": "stream",
          "text": [
            "              precision    recall  f1-score   support\n",
            "\n",
            "           0       1.00      1.00      1.00     78141\n",
            "           1       1.00      0.98      0.99     19632\n",
            "\n",
            "    accuracy                           1.00     97773\n",
            "   macro avg       1.00      0.99      0.99     97773\n",
            "weighted avg       1.00      1.00      1.00     97773\n",
            "\n"
          ],
          "name": "stdout"
        }
      ]
    },
    {
      "cell_type": "code",
      "metadata": {
        "colab_type": "code",
        "outputId": "2ac6b76c-09db-4cb1-b02c-932acb30a837",
        "id": "p3NyQE2azvMw",
        "colab": {
          "base_uri": "https://localhost:8080/",
          "height": 35
        }
      },
      "source": [
        "y_pred_prob = rf_model_3.predict_proba(X_test_sc)[:,1]\n",
        "metrics.roc_auc_score(y_test, y_pred_prob)"
      ],
      "execution_count": 128,
      "outputs": [
        {
          "output_type": "execute_result",
          "data": {
            "text/plain": [
              "0.9998665085126508"
            ]
          },
          "metadata": {
            "tags": []
          },
          "execution_count": 128
        }
      ]
    },
    {
      "cell_type": "code",
      "metadata": {
        "id": "BWR_qJto1btI",
        "colab_type": "code",
        "colab": {}
      },
      "source": [
        ""
      ],
      "execution_count": 0,
      "outputs": []
    }
  ]
}